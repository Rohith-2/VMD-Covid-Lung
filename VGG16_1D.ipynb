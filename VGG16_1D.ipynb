{
  "nbformat": 4,
  "nbformat_minor": 0,
  "metadata": {
    "accelerator": "GPU",
    "colab": {
      "name": "VGG16-COVID.ipynb",
      "provenance": [],
      "collapsed_sections": []
    },
    "kernelspec": {
      "display_name": "Python 3",
      "name": "python3"
    },
    "language_info": {
      "name": "python"
    }
  },
  "cells": [
    {
      "cell_type": "markdown",
      "metadata": {
        "id": "F73AdTPg4kWH"
      },
      "source": [
        "# Imports`"
      ]
    },
    {
      "cell_type": "code",
      "metadata": {
        "id": "AxR6Y7aJi-fd"
      },
      "source": [
        "! pip install -q kaggle\n",
        "from google.colab import files\n",
        "files.upload()\n",
        "! mkdir ~/.kaggle\n",
        "! cp kaggle.json ~/.kaggle/\n",
        "! chmod 600 ~/.kaggle/kaggle.json\n",
        "! kaggle datasets download -d rohithramakrishnan/datalung-classified\n",
        "! mkdir Dataset\n",
        "! unzip datalung-classified.zip -d Dataset"
      ],
      "execution_count": null,
      "outputs": []
    },
    {
      "cell_type": "code",
      "metadata": {
        "id": "o4XhUSTf0GSy"
      },
      "source": [
        "! rm -rf \"/content/Dataset/Lung/vmd/Atypical Appearance\"\n",
        "! rm -rf \"/content/Dataset/Lung/vmd/Indeterminate Appearance\"\n",
        "! rm -rf \"/content/Dataset/Lung/Original/Atypical Appearance\"\n",
        "! rm -rf \"/content/Dataset/Lung/Original/Indeterminate Appearance\"\n",
        "! rm -rf \"/content/sample_data\"\n",
        "! rm \"/content/datalung-classified.zip\""
      ],
      "execution_count": 2,
      "outputs": []
    },
    {
      "cell_type": "code",
      "metadata": {
        "id": "CPrfxrPGjeaX"
      },
      "source": [
        "import os \n",
        "import cv2\n",
        "import numpy as np\n",
        "import tensorflow as tf\n",
        "import matplotlib.pyplot as plt\n",
        "from tensorflow import keras\n",
        "from tensorflow.keras.utils import to_categorical\n",
        "from sklearn.model_selection import train_test_split\n",
        "from tensorflow.keras.applications import VGG16\n",
        "from tensorflow.keras.applications import InceptionV3\n",
        "from tensorflow.keras.applications import nasnet\n",
        "from tensorflow.keras import models\n",
        "from tensorflow.keras import Model\n",
        "from tensorflow.keras import layers\n",
        "from tensorflow.keras import optimizers\n",
        "from tensorflow.keras import callbacks \n",
        "from glob import glob\n",
        "from keras import optimizers\n",
        "from sklearn import metrics\n",
        "from sklearn.metrics import confusion_matrix\n",
        "from mlxtend.plotting import plot_confusion_matrix"
      ],
      "execution_count": 3,
      "outputs": []
    },
    {
      "cell_type": "code",
      "metadata": {
        "colab": {
          "base_uri": "https://localhost:8080/"
        },
        "id": "7TWv9m-OnHDG",
        "outputId": "52733b79-3de5-45cb-b291-4e24ceb7b497"
      },
      "source": [
        "size=512\n",
        "train_datagen = tf.keras.preprocessing.image.ImageDataGenerator(rescale=1./255,validation_split=0.2,vertical_flip=True)\n",
        "\n",
        "Train_Data = train_datagen.flow_from_directory(\n",
        "          '/content/Dataset/Lung/vmd',\n",
        "          target_size=(size, size),\n",
        "          batch_size=32,\n",
        "          class_mode='categorical',\n",
        "          subset='training')\n",
        "Val_Data = train_datagen.flow_from_directory(\n",
        "        '/content/Dataset/Lung/vmd',\n",
        "        target_size=(size, size),\n",
        "        batch_size=1,\n",
        "        shuffle=False,\n",
        "        class_mode='categorical',\n",
        "        subset='validation')\n",
        "\n",
        "Test_Data = train_datagen.flow_from_directory(\n",
        "        '/content/Dataset/Lung/vmd',\n",
        "        target_size=(size, size),\n",
        "        batch_size=1,\n",
        "        shuffle=False,\n",
        "        class_mode='categorical',\n",
        "        subset='validation')\n",
        "\n",
        "Train_Data_OG = train_datagen.flow_from_directory(\n",
        "          '/content/Dataset/Lung/Original',\n",
        "          target_size=(size, size),\n",
        "          batch_size=32,\n",
        "          class_mode='categorical',\n",
        "          subset='training')\n",
        "\n",
        "Val_Data_OG = train_datagen.flow_from_directory(\n",
        "        '/content/Dataset/Lung/Original',\n",
        "        target_size=(size, size),\n",
        "        batch_size=1,\n",
        "        shuffle=False,\n",
        "        class_mode='categorical',\n",
        "        subset='validation')\n",
        "\n",
        "Test_Data_OG = train_datagen.flow_from_directory(\n",
        "        '/content/Dataset/Lung/Original',\n",
        "        target_size=(size, size),\n",
        "        batch_size=1,\n",
        "        shuffle=False,\n",
        "        class_mode='categorical',\n",
        "        subset='validation')"
      ],
      "execution_count": 4,
      "outputs": [
        {
          "output_type": "stream",
          "text": [
            "Found 3617 images belonging to 2 classes.\n",
            "Found 903 images belonging to 2 classes.\n",
            "Found 903 images belonging to 2 classes.\n",
            "Found 3617 images belonging to 2 classes.\n",
            "Found 903 images belonging to 2 classes.\n",
            "Found 903 images belonging to 2 classes.\n"
          ],
          "name": "stdout"
        }
      ]
    },
    {
      "cell_type": "markdown",
      "metadata": {
        "id": "SaAldwDI4SyT"
      },
      "source": [
        "# NASNet"
      ]
    },
    {
      "cell_type": "code",
      "metadata": {
        "id": "3AxEkV-HslZK",
        "colab": {
          "base_uri": "https://localhost:8080/"
        },
        "outputId": "d0acbb93-bd0e-4c15-8fa7-b50087509029"
      },
      "source": [
        "vgg16= tf.keras.applications.VGG16(\n",
        "    include_top=False,\n",
        "    weights='imagenet',input_shape=(size,size,3)\n",
        ")\n",
        "# Freeze all the layers\n",
        "for layer in vgg16.layers[:]:\n",
        "    layer.trainable = False"
      ],
      "execution_count": 10,
      "outputs": [
        {
          "output_type": "stream",
          "text": [
            "Downloading data from https://storage.googleapis.com/tensorflow/keras-applications/vgg16/vgg16_weights_tf_dim_ordering_tf_kernels_notop.h5\n",
            "58892288/58889256 [==============================] - 1s 0us/step\n"
          ],
          "name": "stdout"
        }
      ]
    },
    {
      "cell_type": "code",
      "metadata": {
        "id": "2gmQfjdI16Mi",
        "colab": {
          "base_uri": "https://localhost:8080/"
        },
        "outputId": "92baa808-88dd-412c-dd3b-87a62e845c93"
      },
      "source": [
        "  num_classes = 2\n",
        "# Create the model\n",
        "  model = models.Sequential()\n",
        "\n",
        "  # Add the vgg convolutional base model\n",
        "  model.add(vgg16)\n",
        "  # Add new layers\n",
        "\n",
        "  model.add(layers.Flatten())\n",
        "  model.add(layers.Dense(512, activation='relu'))\n",
        "  model.add(layers.Dropout(0.3))\n",
        "  model.add(layers.Dense(num_classes, activation='softmax'))\n",
        "  model.build((size,size,3))\n",
        "  # Show a summary of the model. Check the number of trainable parameters\n",
        "  model.summary()\n",
        "\n",
        "# Create the model\n",
        "  model1 = models.Sequential()\n",
        "\n",
        "  # Add the vgg convolutional base model\n",
        "  model1.add(vgg16)\n",
        "  # Add new layers\n",
        "\n",
        "  model1.add(layers.Flatten())\n",
        "  model1.add(layers.Dense(512, activation='relu'))\n",
        "  model1.add(layers.Dropout(0.3))\n",
        "  model1.add(layers.Dense(num_classes, activation='softmax'))\n",
        "  model1.build((size,size,3))\n",
        "  # Show a summary of the model. Check the number of trainable parameters"
      ],
      "execution_count": 11,
      "outputs": [
        {
          "output_type": "stream",
          "text": [
            "Model: \"sequential_2\"\n",
            "_________________________________________________________________\n",
            "Layer (type)                 Output Shape              Param #   \n",
            "=================================================================\n",
            "vgg16 (Functional)           (None, 16, 16, 512)       14714688  \n",
            "_________________________________________________________________\n",
            "flatten_2 (Flatten)          (None, 131072)            0         \n",
            "_________________________________________________________________\n",
            "dense_4 (Dense)              (None, 512)               67109376  \n",
            "_________________________________________________________________\n",
            "dropout_2 (Dropout)          (None, 512)               0         \n",
            "_________________________________________________________________\n",
            "dense_5 (Dense)              (None, 2)                 1026      \n",
            "=================================================================\n",
            "Total params: 81,825,090\n",
            "Trainable params: 67,110,402\n",
            "Non-trainable params: 14,714,688\n",
            "_________________________________________________________________\n"
          ],
          "name": "stdout"
        }
      ]
    },
    {
      "cell_type": "code",
      "metadata": {
        "id": "BGGhS1S02H86"
      },
      "source": [
        "optRMSProp=tf.keras.optimizers.RMSprop(learning_rate=0.00001, momentum=0.001, epsilon=1e-7, name=\"RMSprop\",)\n",
        "model.compile(optimizer=optRMSProp, loss=\"categorical_crossentropy\",metrics=['accuracy'])\n",
        "model1.compile(optimizer=optRMSProp, loss=\"categorical_crossentropy\",metrics=['accuracy'])"
      ],
      "execution_count": 13,
      "outputs": []
    },
    {
      "cell_type": "code",
      "metadata": {
        "id": "3OvbNcge2UAV"
      },
      "source": [
        "\n",
        "reduce_learning = callbacks.ReduceLROnPlateau(\n",
        "    monitor='val_loss',\n",
        "    factor=0.2,\n",
        "    patience=2,\n",
        "    verbose=1,\n",
        "    mode='auto',\n",
        "    min_delta=0.0001,\n",
        "    cooldown=2,\n",
        "    min_lr=0)\n",
        "\n",
        "eary_stopping = callbacks.EarlyStopping(\n",
        "    monitor='val_loss',\n",
        "    min_delta=0,\n",
        "    patience=10,\n",
        "    verbose=1,\n",
        "    mode='auto')\n",
        "\n",
        "callback = [reduce_learning, eary_stopping]"
      ],
      "execution_count": 14,
      "outputs": []
    },
    {
      "cell_type": "code",
      "metadata": {
        "colab": {
          "base_uri": "https://localhost:8080/"
        },
        "id": "mnYypuN_2Wqu",
        "outputId": "bce9efbf-9e47-4f1e-8d61-674b62d2ad29"
      },
      "source": [
        "VGG_16 =model.fit(Train_Data,validation_data = Val_Data,epochs=100,callbacks=callback)"
      ],
      "execution_count": 15,
      "outputs": [
        {
          "output_type": "stream",
          "text": [
            "Epoch 1/100\n",
            "114/114 [==============================] - 279s 2s/step - loss: 0.6906 - accuracy: 0.6384 - val_loss: 0.5856 - val_accuracy: 0.7121\n",
            "Epoch 2/100\n",
            "114/114 [==============================] - 277s 2s/step - loss: 0.5811 - accuracy: 0.7103 - val_loss: 0.5808 - val_accuracy: 0.7032\n",
            "Epoch 3/100\n",
            "114/114 [==============================] - 277s 2s/step - loss: 0.5384 - accuracy: 0.7476 - val_loss: 0.5539 - val_accuracy: 0.7475\n",
            "Epoch 4/100\n",
            "114/114 [==============================] - 277s 2s/step - loss: 0.5173 - accuracy: 0.7559 - val_loss: 0.5286 - val_accuracy: 0.7697\n",
            "Epoch 5/100\n",
            "114/114 [==============================] - 277s 2s/step - loss: 0.4955 - accuracy: 0.7656 - val_loss: 0.5249 - val_accuracy: 0.7697\n",
            "Epoch 6/100\n",
            "114/114 [==============================] - 277s 2s/step - loss: 0.4805 - accuracy: 0.7799 - val_loss: 0.5982 - val_accuracy: 0.7043\n",
            "Epoch 7/100\n",
            "114/114 [==============================] - 276s 2s/step - loss: 0.4677 - accuracy: 0.7785 - val_loss: 0.5001 - val_accuracy: 0.7763\n",
            "Epoch 8/100\n",
            "114/114 [==============================] - 275s 2s/step - loss: 0.4539 - accuracy: 0.7885 - val_loss: 0.6504 - val_accuracy: 0.6977\n",
            "Epoch 9/100\n",
            "114/114 [==============================] - 275s 2s/step - loss: 0.4485 - accuracy: 0.7998 - val_loss: 0.7576 - val_accuracy: 0.6124\n",
            "\n",
            "Epoch 00009: ReduceLROnPlateau reducing learning rate to 1.9999999494757505e-06.\n",
            "Epoch 10/100\n",
            "114/114 [==============================] - 275s 2s/step - loss: 0.3855 - accuracy: 0.8261 - val_loss: 0.4951 - val_accuracy: 0.7863\n",
            "Epoch 11/100\n",
            "114/114 [==============================] - 275s 2s/step - loss: 0.3758 - accuracy: 0.8344 - val_loss: 0.5003 - val_accuracy: 0.7841\n",
            "Epoch 12/100\n",
            "114/114 [==============================] - 276s 2s/step - loss: 0.3740 - accuracy: 0.8374 - val_loss: 0.5017 - val_accuracy: 0.7774\n",
            "\n",
            "Epoch 00012: ReduceLROnPlateau reducing learning rate to 3.999999989900971e-07.\n",
            "Epoch 13/100\n",
            "114/114 [==============================] - 275s 2s/step - loss: 0.3648 - accuracy: 0.8399 - val_loss: 0.5046 - val_accuracy: 0.7874\n",
            "Epoch 14/100\n",
            "114/114 [==============================] - 275s 2s/step - loss: 0.3675 - accuracy: 0.8413 - val_loss: 0.4901 - val_accuracy: 0.7940\n",
            "Epoch 15/100\n",
            "114/114 [==============================] - 276s 2s/step - loss: 0.3648 - accuracy: 0.8374 - val_loss: 0.4933 - val_accuracy: 0.7829\n",
            "Epoch 16/100\n",
            "114/114 [==============================] - 275s 2s/step - loss: 0.3644 - accuracy: 0.8402 - val_loss: 0.4940 - val_accuracy: 0.7741\n",
            "\n",
            "Epoch 00016: ReduceLROnPlateau reducing learning rate to 8.00000009348878e-08.\n",
            "Epoch 17/100\n",
            "114/114 [==============================] - 275s 2s/step - loss: 0.3609 - accuracy: 0.8421 - val_loss: 0.4899 - val_accuracy: 0.7796\n",
            "Epoch 18/100\n",
            "114/114 [==============================] - 275s 2s/step - loss: 0.3600 - accuracy: 0.8432 - val_loss: 0.4941 - val_accuracy: 0.7852\n",
            "Epoch 19/100\n",
            "114/114 [==============================] - 275s 2s/step - loss: 0.3575 - accuracy: 0.8479 - val_loss: 0.4929 - val_accuracy: 0.7752\n",
            "\n",
            "Epoch 00019: ReduceLROnPlateau reducing learning rate to 1.5999999902760466e-08.\n",
            "Epoch 20/100\n",
            "114/114 [==============================] - 275s 2s/step - loss: 0.3581 - accuracy: 0.8413 - val_loss: 0.4997 - val_accuracy: 0.7752\n",
            "Epoch 21/100\n",
            "114/114 [==============================] - 275s 2s/step - loss: 0.3622 - accuracy: 0.8474 - val_loss: 0.4939 - val_accuracy: 0.7697\n",
            "Epoch 22/100\n",
            "114/114 [==============================] - 275s 2s/step - loss: 0.3596 - accuracy: 0.8435 - val_loss: 0.4996 - val_accuracy: 0.7841\n",
            "\n",
            "Epoch 00022: ReduceLROnPlateau reducing learning rate to 3.1999999094978194e-09.\n",
            "Epoch 23/100\n",
            "114/114 [==============================] - 275s 2s/step - loss: 0.3596 - accuracy: 0.8432 - val_loss: 0.4974 - val_accuracy: 0.7774\n",
            "Epoch 24/100\n",
            "114/114 [==============================] - 275s 2s/step - loss: 0.3577 - accuracy: 0.8468 - val_loss: 0.4948 - val_accuracy: 0.7763\n",
            "Epoch 25/100\n",
            "114/114 [==============================] - 275s 2s/step - loss: 0.3558 - accuracy: 0.8455 - val_loss: 0.5012 - val_accuracy: 0.7785\n",
            "\n",
            "Epoch 00025: ReduceLROnPlateau reducing learning rate to 6.399999641359955e-10.\n",
            "Epoch 26/100\n",
            "114/114 [==============================] - 275s 2s/step - loss: 0.3600 - accuracy: 0.8416 - val_loss: 0.5020 - val_accuracy: 0.7752\n",
            "Epoch 27/100\n",
            "114/114 [==============================] - 278s 2s/step - loss: 0.3606 - accuracy: 0.8435 - val_loss: 0.4952 - val_accuracy: 0.7741\n",
            "Epoch 00027: early stopping\n"
          ],
          "name": "stdout"
        }
      ]
    },
    {
      "cell_type": "code",
      "metadata": {
        "id": "cSmGSb-SK3F4",
        "colab": {
          "base_uri": "https://localhost:8080/"
        },
        "outputId": "68c67f22-3588-4d25-b109-65ad69c81636"
      },
      "source": [
        "VGG_161 =model1.fit(Train_Data_OG,validation_data = Val_Data_OG,epochs=100,callbacks=callback)"
      ],
      "execution_count": 16,
      "outputs": [
        {
          "output_type": "stream",
          "text": [
            "Epoch 1/100\n",
            "114/114 [==============================] - 277s 2s/step - loss: 0.8204 - accuracy: 0.4556 - val_loss: 0.7515 - val_accuracy: 0.4075\n",
            "Epoch 2/100\n",
            "114/114 [==============================] - 276s 2s/step - loss: 0.8158 - accuracy: 0.4661 - val_loss: 0.7608 - val_accuracy: 0.3976\n",
            "Epoch 3/100\n",
            "114/114 [==============================] - 277s 2s/step - loss: 0.8240 - accuracy: 0.4551 - val_loss: 0.7506 - val_accuracy: 0.4009\n",
            "Epoch 4/100\n",
            "114/114 [==============================] - 277s 2s/step - loss: 0.8087 - accuracy: 0.4711 - val_loss: 0.7483 - val_accuracy: 0.3942\n",
            "Epoch 5/100\n",
            "114/114 [==============================] - 276s 2s/step - loss: 0.8163 - accuracy: 0.4595 - val_loss: 0.7393 - val_accuracy: 0.4031\n",
            "Epoch 6/100\n",
            "114/114 [==============================] - 276s 2s/step - loss: 0.8055 - accuracy: 0.4667 - val_loss: 0.7402 - val_accuracy: 0.3987\n",
            "Epoch 7/100\n",
            "114/114 [==============================] - 276s 2s/step - loss: 0.8158 - accuracy: 0.4542 - val_loss: 0.7385 - val_accuracy: 0.4053\n",
            "Epoch 8/100\n",
            "114/114 [==============================] - 276s 2s/step - loss: 0.7960 - accuracy: 0.4805 - val_loss: 0.7330 - val_accuracy: 0.4186\n",
            "Epoch 9/100\n",
            "114/114 [==============================] - 276s 2s/step - loss: 0.7958 - accuracy: 0.4733 - val_loss: 0.7347 - val_accuracy: 0.4031\n",
            "Epoch 10/100\n",
            "114/114 [==============================] - 276s 2s/step - loss: 0.8033 - accuracy: 0.4725 - val_loss: 0.7269 - val_accuracy: 0.4286\n",
            "Epoch 11/100\n",
            "114/114 [==============================] - 276s 2s/step - loss: 0.7915 - accuracy: 0.4811 - val_loss: 0.7282 - val_accuracy: 0.4252\n",
            "Epoch 12/100\n",
            "114/114 [==============================] - 276s 2s/step - loss: 0.7955 - accuracy: 0.4769 - val_loss: 0.7269 - val_accuracy: 0.4264\n",
            "\n",
            "Epoch 00012: ReduceLROnPlateau reducing learning rate to 1.27999988386307e-10.\n",
            "Epoch 13/100\n",
            "114/114 [==============================] - 277s 2s/step - loss: 0.7946 - accuracy: 0.4777 - val_loss: 0.7259 - val_accuracy: 0.4197\n",
            "Epoch 14/100\n",
            "114/114 [==============================] - 276s 2s/step - loss: 0.7995 - accuracy: 0.4653 - val_loss: 0.7295 - val_accuracy: 0.4142\n",
            "Epoch 15/100\n",
            "114/114 [==============================] - 276s 2s/step - loss: 0.7843 - accuracy: 0.4858 - val_loss: 0.7227 - val_accuracy: 0.4408\n",
            "Epoch 16/100\n",
            "114/114 [==============================] - 277s 2s/step - loss: 0.7654 - accuracy: 0.5059 - val_loss: 0.7245 - val_accuracy: 0.4308\n",
            "Epoch 17/100\n",
            "114/114 [==============================] - 277s 2s/step - loss: 0.7943 - accuracy: 0.4672 - val_loss: 0.7231 - val_accuracy: 0.4264\n",
            "\n",
            "Epoch 00017: ReduceLROnPlateau reducing learning rate to 2.559999712214989e-11.\n",
            "Epoch 18/100\n",
            "114/114 [==============================] - 277s 2s/step - loss: 0.7941 - accuracy: 0.4675 - val_loss: 0.7272 - val_accuracy: 0.4186\n",
            "Epoch 19/100\n",
            "114/114 [==============================] - 275s 2s/step - loss: 0.7866 - accuracy: 0.4877 - val_loss: 0.7239 - val_accuracy: 0.4330\n",
            "Epoch 20/100\n",
            "114/114 [==============================] - 274s 2s/step - loss: 0.7905 - accuracy: 0.4841 - val_loss: 0.7252 - val_accuracy: 0.4330\n",
            "\n",
            "Epoch 00020: ReduceLROnPlateau reducing learning rate to 5.119999563207856e-12.\n",
            "Epoch 21/100\n",
            "114/114 [==============================] - 274s 2s/step - loss: 0.7822 - accuracy: 0.4811 - val_loss: 0.7273 - val_accuracy: 0.4153\n",
            "Epoch 22/100\n",
            "114/114 [==============================] - 275s 2s/step - loss: 0.7879 - accuracy: 0.4736 - val_loss: 0.7253 - val_accuracy: 0.4352\n",
            "Epoch 23/100\n",
            "114/114 [==============================] - 274s 2s/step - loss: 0.7845 - accuracy: 0.4775 - val_loss: 0.7294 - val_accuracy: 0.4142\n",
            "\n",
            "Epoch 00023: ReduceLROnPlateau reducing learning rate to 1.0239998952943363e-12.\n",
            "Epoch 24/100\n",
            "114/114 [==============================] - 274s 2s/step - loss: 0.7911 - accuracy: 0.4830 - val_loss: 0.7232 - val_accuracy: 0.4330\n",
            "Epoch 25/100\n",
            "114/114 [==============================] - 274s 2s/step - loss: 0.7928 - accuracy: 0.4719 - val_loss: 0.7249 - val_accuracy: 0.4264\n",
            "Epoch 00025: early stopping\n"
          ],
          "name": "stdout"
        }
      ]
    },
    {
      "cell_type": "code",
      "metadata": {
        "id": "MmTafSdWVfNV"
      },
      "source": [
        "predict1 = model.predict(Val_Data, steps=None)\n",
        "predict2 = model1.predict(Val_Data_OG, steps=None)"
      ],
      "execution_count": 17,
      "outputs": []
    },
    {
      "cell_type": "code",
      "metadata": {
        "id": "yKOPQgDrXw83"
      },
      "source": [
        "in1=[]\n",
        "for i in np.arange(predict1.shape[0]):\n",
        "  A= np.max(predict1[i])\n",
        "  index_1= np.where(predict1[i]==A)\n",
        "  in1.append(index_1[0][0])\n",
        "in1=np.array(in1)\n",
        "\n",
        "in2=[]\n",
        "for i in np.arange(predict2.shape[0]):\n",
        "  A= np.max(predict2[i])\n",
        "  index_1= np.where(predict2[i]==A)\n",
        "  in2.append(index_1[0][0])\n",
        "in2=np.array(in2)"
      ],
      "execution_count": 18,
      "outputs": []
    },
    {
      "cell_type": "code",
      "metadata": {
        "id": "4-tVvXcBVmgP",
        "colab": {
          "base_uri": "https://localhost:8080/",
          "height": 881
        },
        "outputId": "2130b227-ee18-4451-c48c-3920a368dcbe"
      },
      "source": [
        "print(\"VMDed Data\")\n",
        "true_classes = Val_Data.classes\n",
        "class_labels = list(Val_Data.class_indices.keys()) \n",
        "predicted_classes = (in1)\n",
        "report = metrics.classification_report(true_classes, predicted_classes, target_names=class_labels)\n",
        "print(report)\n",
        "cm1 = confusion_matrix(true_classes,predicted_classes)\n",
        "#print(cm2)\n",
        "#Visualizing confusion matrix\n",
        "fig, ax = plot_confusion_matrix(conf_mat=cm1, colorbar=True)\n",
        "plt.show()\n",
        "\n",
        "print(\"Original Data\")\n",
        "true_classes = Val_Data_OG.classes\n",
        "class_labels = list(Val_Data_OG.class_indices.keys()) \n",
        "predicted_classes = (in2)\n",
        "report = metrics.classification_report(true_classes, predicted_classes, target_names=class_labels)\n",
        "print(report)\n",
        "cm1 = confusion_matrix(true_classes,predicted_classes)\n",
        "#print(cm2)\n",
        "#Visualizing confusion matrix\n",
        "fig, ax = plot_confusion_matrix(conf_mat=cm1, colorbar=True)\n",
        "plt.show()\n"
      ],
      "execution_count": 19,
      "outputs": [
        {
          "output_type": "stream",
          "text": [
            "VMDed Data\n",
            "                        precision    recall  f1-score   support\n",
            "\n",
            "Negative for Pneumonia       0.73      0.63      0.67       331\n",
            "    Typical Appearance       0.80      0.87      0.83       572\n",
            "\n",
            "              accuracy                           0.78       903\n",
            "             macro avg       0.77      0.75      0.75       903\n",
            "          weighted avg       0.77      0.78      0.77       903\n",
            "\n"
          ],
          "name": "stdout"
        },
        {
          "output_type": "display_data",
          "data": {
            "image/png": "[encoded data removed]",
            "text/plain": [
              "<Figure size 432x288 with 2 Axes>"
            ]
          },
          "metadata": {
            "tags": [],
            "needs_background": "light"
          }
        },
        {
          "output_type": "stream",
          "text": [
            "Original Data\n",
            "                        precision    recall  f1-score   support\n",
            "\n",
            "Negative for Pneumonia       0.35      0.72      0.47       331\n",
            "    Typical Appearance       0.59      0.23      0.33       572\n",
            "\n",
            "              accuracy                           0.41       903\n",
            "             macro avg       0.47      0.47      0.40       903\n",
            "          weighted avg       0.50      0.41      0.38       903\n",
            "\n"
          ],
          "name": "stdout"
        },
        {
          "output_type": "display_data",
          "data": {
            "image/png": "[encoded data removed]",
            "text/plain": [
              "<Figure size 432x288 with 2 Axes>"
            ]
          },
          "metadata": {
            "tags": [],
            "needs_background": "light"
          }
        }
      ]
    }
  ]
}