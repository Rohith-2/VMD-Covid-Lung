{
  "nbformat": 4,
  "nbformat_minor": 0,
  "metadata": {
    "colab": {
      "name": "1D-VMD_128.ipynb",
      "provenance": [],
      "collapsed_sections": [],
      "include_colab_link": true
    },
    "kernelspec": {
      "name": "python3",
      "display_name": "Python 3"
    },
    "language_info": {
      "name": "python"
    },
    "accelerator": "GPU"
  },
  "cells": [
    {
      "cell_type": "markdown",
      "metadata": {
        "id": "view-in-github",
        "colab_type": "text"
      },
      "source": [
        "<a href=\"https://colab.research.google.com/github/Rohith-2/VMD-Covid-Lung/blob/main/1D_VMD_128.ipynb\" target=\"_parent\"><img src=\"https://colab.research.google.com/assets/colab-badge.svg\" alt=\"Open In Colab\"/></a>"
      ]
    },
    {
      "cell_type": "code",
      "metadata": {
        "id": "ZQ08yVO6XrC_"
      },
      "source": [
        "# Load dataset\n",
        "! pip install -q kaggle\n",
        "from google.colab import files\n",
        "files.upload()\n",
        "! mkdir ~/.kaggle\n",
        "! cp kaggle.json ~/.kaggle/\n",
        "! chmod 600 ~/.kaggle/kaggle.json\n",
        "! kaggle datasets list\n",
        "#! kaggle datasets download -d anirudhvadakedath/datalung-classified\n",
        "! kaggle datasets download -d rohithramakrishnan/datalung-classified\n",
        "! mkdir Dataset\n",
        "! unzip datalung-classified.zip -d Dataset"
      ],
      "execution_count": null,
      "outputs": []
    },
    {
      "cell_type": "code",
      "metadata": {
        "id": "afgK-7iVisme"
      },
      "source": [
        "#!mkdir -p '/content/drive/MyDrive/Colab Notebooks/DL/vmd_saved_model'"
      ],
      "execution_count": 2,
      "outputs": []
    },
    {
      "cell_type": "code",
      "metadata": {
        "id": "5RVwwSCqX2Ma"
      },
      "source": [
        "#!rm -rf '/content/Dataset/Lung/Original'\n",
        "!rm -rf '/content/datalung-classified.zip'\n",
        "#!rm -rf '/content/Train_Data'"
      ],
      "execution_count": 3,
      "outputs": []
    },
    {
      "cell_type": "code",
      "metadata": {
        "id": "X-zLoxZtX8ND"
      },
      "source": [
        "# import utilities\n",
        "import os\n",
        "import glob\n",
        "import shutil\n",
        "import numpy as np\n",
        "import tensorflow as tf\n",
        "import matplotlib.pyplot as plt\n",
        "from tensorflow import keras\n",
        "from tensorflow.keras.applications import InceptionV3\n",
        "from tensorflow.keras import models\n",
        "from tensorflow.keras import Model\n",
        "from tensorflow.keras import layers\n",
        "from tensorflow.keras import callbacks\n",
        "from sklearn import metrics\n",
        "from sklearn.metrics import confusion_matrix\n",
        "from mlxtend.plotting import plot_confusion_matrix\n",
        "from tensorflow.keras.callbacks import *\n",
        "from keras.preprocessing import image"
      ],
      "execution_count": 4,
      "outputs": []
    },
    {
      "cell_type": "code",
      "metadata": {
        "colab": {
          "base_uri": "https://localhost:8080/"
        },
        "id": "rxG1SrqYYDNj",
        "outputId": "5332fe96-c62e-4aaa-edbc-45b9b08e3fed"
      },
      "source": [
        "#extracting two classes, 'Negative for Pneumonia' & 'Typical Appearance' from dataset\n",
        "data_dir_vmd = '/content/Dataset/Lung/vmd/'\n",
        "tr_lst = []\n",
        "for ds in os.listdir(data_dir_vmd):\n",
        "  if os.path.isdir(os.path.join(data_dir_vmd+ds)):\n",
        "    tr_lst+=[ds]\n",
        "print(tr_lst)\n",
        "print(len(tr_lst))\n",
        "lst = ['Negative for Pneumonia', 'Typical Appearance']\n",
        "\n",
        "os.mkdir('/content/Train_Data_vmd/')\n",
        "\n",
        "for ext in tr_lst:\n",
        "  if ext in lst:\n",
        "    os.mkdir('/content/Train_Data_vmd/'+ext)\n",
        "    extn = data_dir_vmd+ext+'/*.jpg'\n",
        "    print(extn)\n",
        "    cl = glob.glob(extn)\n",
        "    for data in cl:\n",
        "      shutil.copy(data,('/content/Train_Data_vmd/'+ext))\n",
        "\n",
        "src1 = '/content/Train_Data_vmd/Negative for Pneumonia'\n",
        "dst1 = '/content/Train_Data_vmd/Negative'\n",
        "os.rename(src1, dst1)\n",
        "\n",
        "src2 = '/content/Train_Data_vmd/Typical Appearance'\n",
        "dst2 = '/content/Train_Data_vmd/Positive'\n",
        "os.rename(src2, dst2)"
      ],
      "execution_count": null,
      "outputs": [
        {
          "output_type": "stream",
          "text": [
            "['Typical Appearance', 'Negative for Pneumonia', 'Indeterminate Appearance', 'Atypical Appearance']\n",
            "4\n",
            "/content/Dataset/Lung/vmd/Typical Appearance/*.jpg\n",
            "/content/Dataset/Lung/vmd/Negative for Pneumonia/*.jpg\n"
          ],
          "name": "stdout"
        }
      ]
    },
    {
      "cell_type": "code",
      "metadata": {
        "colab": {
          "base_uri": "https://localhost:8080/"
        },
        "id": "KDAi06VFx5U8",
        "outputId": "62df6bbf-e826-4c5b-dfd7-7fafff37b063"
      },
      "source": [
        "data_dir_original = '/content/Dataset/Lung/Original/'\n",
        "tr_lst = []\n",
        "for ds in os.listdir(data_dir_original):\n",
        "  if os.path.isdir(os.path.join(data_dir_original+ds)):\n",
        "    tr_lst+=[ds]\n",
        "print(tr_lst)\n",
        "print(len(tr_lst))\n",
        "lst = ['Negative for Pneumonia', 'Typical Appearance']\n",
        "\n",
        "os.mkdir('/content/Train_Data_original/')\n",
        "\n",
        "for ext in tr_lst:\n",
        "  if ext in lst:\n",
        "    os.mkdir('/content/Train_Data_original/'+ext)\n",
        "    extn = data_dir_original+ext+'/*.jpg'\n",
        "    print(extn)\n",
        "    cl = glob.glob(extn)\n",
        "    for data in cl:\n",
        "      shutil.copy(data,('/content/Train_Data_original/'+ext))\n",
        "\n",
        "src1 = '/content/Train_Data_original/Negative for Pneumonia'\n",
        "dst1 = '/content/Train_Data_original/Negative'\n",
        "os.rename(src1, dst1)\n",
        "\n",
        "src2 = '/content/Train_Data_original/Typical Appearance'\n",
        "dst2 = '/content/Train_Data_original/Positive'\n",
        "os.rename(src2, dst2)"
      ],
      "execution_count": null,
      "outputs": [
        {
          "output_type": "stream",
          "text": [
            "['Typical Appearance', 'Negative for Pneumonia', 'Indeterminate Appearance', 'Atypical Appearance']\n",
            "4\n",
            "/content/Dataset/Lung/Original/Typical Appearance/*.jpg\n",
            "/content/Dataset/Lung/Original/Negative for Pneumonia/*.jpg\n"
          ],
          "name": "stdout"
        }
      ]
    },
    {
      "cell_type": "code",
      "metadata": {
        "id": "cfgArUJJyWmG"
      },
      "source": [
        "!rm -rf '/content/Dataset'"
      ],
      "execution_count": null,
      "outputs": []
    },
    {
      "cell_type": "code",
      "metadata": {
        "id": "gNvJ5nAMYyPO"
      },
      "source": [
        "data_dir_vmd='/content/Train_Data_vmd'\n",
        "data_dir_original='/content/Train_Data_original'\n",
        "batch_size=32\n",
        "img_height,img_width=512,512\n",
        "\n",
        "!rm -rf \"/content/Dataset/Lung/vmd/Atypical Appearance\"\n",
        "!rm -rf \"/content/Dataset/Lung/vmd/Indeterminate Appearance\"\n",
        "!rm -rf \"/content/Dataset/Lung/Original/Atypical Appearance\"\n",
        "!rm -rf \"/content/Dataset/Lung/Original/Indeterminate Appearance\""
      ],
      "execution_count": 11,
      "outputs": []
    },
    {
      "cell_type": "code",
      "metadata": {
        "colab": {
          "base_uri": "https://localhost:8080/"
        },
        "id": "1usbYo2HahHN",
        "outputId": "4df6557b-dfe3-4e56-af05-f66eb0ce6eac"
      },
      "source": [
        "train_datagen = tf.keras.preprocessing.image.ImageDataGenerator(rescale=1./255,validation_split=0.2)\n",
        "seed = 50\n",
        "Train_Data_vmd = train_datagen.flow_from_directory(\n",
        "        \"/content/Dataset/Lung/vmd/\",\n",
        "        target_size=(img_height, img_width),\n",
        "        batch_size=batch_size,\n",
        "        class_mode='categorical',\n",
        "        subset='training',\n",
        "        seed = seed)\n",
        "\n",
        "Test_Data_vmd = train_datagen.flow_from_directory(\n",
        "        \"/content/Dataset/Lung/vmd/\",\n",
        "        target_size=(img_height, img_width),\n",
        "        batch_size=batch_size,\n",
        "        shuffle=False,\n",
        "        class_mode='categorical',\n",
        "        subset='validation',\n",
        "        seed = seed)\n",
        "\n",
        "Train_Data_original = train_datagen.flow_from_directory(\n",
        "        \"/content/Dataset/Lung/Original/\",\n",
        "        target_size=(img_height, img_width),\n",
        "        batch_size=batch_size,\n",
        "        class_mode='categorical',\n",
        "        subset='training',\n",
        "        seed = seed)\n",
        "\n",
        "Test_Data_original = train_datagen.flow_from_directory(\n",
        "        \"/content/Dataset/Lung/vmd/\",\n",
        "        target_size=(img_height, img_width),\n",
        "        batch_size=batch_size,\n",
        "        shuffle=False,\n",
        "        class_mode='categorical',\n",
        "        subset='validation',\n",
        "        seed = seed)"
      ],
      "execution_count": 12,
      "outputs": [
        {
          "output_type": "stream",
          "text": [
            "Found 3617 images belonging to 2 classes.\n",
            "Found 903 images belonging to 2 classes.\n",
            "Found 3617 images belonging to 2 classes.\n",
            "Found 903 images belonging to 2 classes.\n"
          ],
          "name": "stdout"
        }
      ]
    },
    {
      "cell_type": "code",
      "metadata": {
        "colab": {
          "base_uri": "https://localhost:8080/"
        },
        "id": "0PGgVm-0cbNc",
        "outputId": "a48463e1-257d-4b25-ba81-11d1f0f18a63"
      },
      "source": [
        "num_classes = 2\n",
        "eph = 50\n",
        "\n",
        "import tensorflow \n",
        "from tensorflow.keras.applications import VGG16\n",
        "vgg16= tf.keras.applications.VGG16(\n",
        "    include_top=False,\n",
        "    weights=\"imagenet\",\n",
        "    input_shape=(img_height,img_width,3)\n",
        ")\n",
        "\n",
        "# Freeze all the layers\n",
        "for layer in vgg16.layers[:]:\n",
        "    layer.trainable = False\n",
        "\n",
        "# Check the trainable status of the individual layers\n",
        "for layer in vgg16.layers:\n",
        "    print(layer.name, layer.trainable)"
      ],
      "execution_count": 13,
      "outputs": [
        {
          "output_type": "stream",
          "text": [
            "input_2 False\n",
            "block1_conv1 False\n",
            "block1_conv2 False\n",
            "block1_pool False\n",
            "block2_conv1 False\n",
            "block2_conv2 False\n",
            "block2_pool False\n",
            "block3_conv1 False\n",
            "block3_conv2 False\n",
            "block3_conv3 False\n",
            "block3_pool False\n",
            "block4_conv1 False\n",
            "block4_conv2 False\n",
            "block4_conv3 False\n",
            "block4_pool False\n",
            "block5_conv1 False\n",
            "block5_conv2 False\n",
            "block5_conv3 False\n",
            "block5_pool False\n"
          ],
          "name": "stdout"
        }
      ]
    },
    {
      "cell_type": "code",
      "metadata": {
        "colab": {
          "base_uri": "https://localhost:8080/"
        },
        "id": "b19Ken6lnRez",
        "outputId": "0ed848e3-5a8e-4594-cee0-ca30e2159e4a"
      },
      "source": [
        "# Create the model\n",
        "model = models.Sequential()\n",
        "model.add(vgg16)\n",
        "model.add(layers.Flatten())\n",
        "model.add(layers.Dense(128, activation='relu'))\n",
        "#model.add(layers.Dense(16, activation='relu'))\n",
        "model.add(layers.Dropout(0.5))\n",
        "model.add(layers.Dense(num_classes, activation='softmax'))\n",
        "model.build((img_height,img_width,3))\n",
        "model.summary()"
      ],
      "execution_count": 14,
      "outputs": [
        {
          "output_type": "stream",
          "text": [
            "Model: \"sequential_1\"\n",
            "_________________________________________________________________\n",
            "Layer (type)                 Output Shape              Param #   \n",
            "=================================================================\n",
            "vgg16 (Functional)           (None, 16, 16, 512)       14714688  \n",
            "_________________________________________________________________\n",
            "flatten_1 (Flatten)          (None, 131072)            0         \n",
            "_________________________________________________________________\n",
            "dense_2 (Dense)              (None, 128)               16777344  \n",
            "_________________________________________________________________\n",
            "dropout_1 (Dropout)          (None, 128)               0         \n",
            "_________________________________________________________________\n",
            "dense_3 (Dense)              (None, 2)                 258       \n",
            "=================================================================\n",
            "Total params: 31,492,290\n",
            "Trainable params: 16,777,602\n",
            "Non-trainable params: 14,714,688\n",
            "_________________________________________________________________\n"
          ],
          "name": "stdout"
        }
      ]
    },
    {
      "cell_type": "code",
      "metadata": {
        "id": "b3Ac34Lty_1J"
      },
      "source": [
        "from keras import optimizers\n",
        "optRMSProp=tf.keras.optimizers.RMSprop(learning_rate=0.0001, momentum=0.0001, epsilon=1e-07, name=\"RMSprop\",)\n",
        "model.compile(optimizer=optRMSProp, loss=\"categorical_crossentropy\",metrics=['accuracy'])\n",
        "\n",
        "from tensorflow.keras import callbacks \n",
        "reduce_learning = callbacks.ReduceLROnPlateau(\n",
        "    monitor='loss',\n",
        "    factor=0.2,\n",
        "    patience=2,\n",
        "    verbose=1,\n",
        "    mode='auto',\n",
        "    min_delta=0.001,\n",
        "    cooldown=2,\n",
        "    min_lr=0)\n",
        "\n",
        "eary_stopping = callbacks.EarlyStopping(\n",
        "    monitor='loss',\n",
        "    min_delta=0,\n",
        "    patience=3,\n",
        "    verbose=1,\n",
        "    mode='auto')\n",
        "\n",
        "callbacks = [reduce_learning, eary_stopping]"
      ],
      "execution_count": 15,
      "outputs": []
    },
    {
      "cell_type": "code",
      "metadata": {
        "colab": {
          "base_uri": "https://localhost:8080/"
        },
        "id": "4vL9LcwXzQOf",
        "outputId": "9338c7d8-b128-4448-b3f2-2fed32c1c580"
      },
      "source": [
        "VGG_16_vmd =model.fit(Train_Data_vmd,epochs=eph,callbacks=callbacks)\n",
        "\n",
        "# Save the entire model as a SavedModel.\n",
        "#!mkdir -p saved_model\n",
        "#model.save('/content/drive/MyDrive/Colab Notebooks/DL/vmd_saved_model/vmd_model_32')"
      ],
      "execution_count": 16,
      "outputs": [
        {
          "output_type": "stream",
          "text": [
            "Epoch 1/50\n",
            "114/114 [==============================] - 78s 674ms/step - loss: 0.7534 - accuracy: 0.6464\n",
            "Epoch 2/50\n",
            "114/114 [==============================] - 76s 666ms/step - loss: 0.5916 - accuracy: 0.7069\n",
            "Epoch 3/50\n",
            "114/114 [==============================] - 77s 669ms/step - loss: 0.5479 - accuracy: 0.7371\n",
            "Epoch 4/50\n",
            "114/114 [==============================] - 77s 669ms/step - loss: 0.5205 - accuracy: 0.7473\n",
            "Epoch 5/50\n",
            "114/114 [==============================] - 77s 669ms/step - loss: 0.5112 - accuracy: 0.7639\n",
            "Epoch 6/50\n",
            "114/114 [==============================] - 77s 669ms/step - loss: 0.4958 - accuracy: 0.7697\n",
            "Epoch 7/50\n",
            "114/114 [==============================] - 77s 669ms/step - loss: 0.4632 - accuracy: 0.7871\n",
            "Epoch 8/50\n",
            "114/114 [==============================] - 77s 670ms/step - loss: 0.4498 - accuracy: 0.7860\n",
            "Epoch 9/50\n",
            "114/114 [==============================] - 77s 669ms/step - loss: 0.4455 - accuracy: 0.7960\n",
            "Epoch 10/50\n",
            "114/114 [==============================] - 77s 670ms/step - loss: 0.4364 - accuracy: 0.8048\n",
            "Epoch 11/50\n",
            "114/114 [==============================] - 77s 668ms/step - loss: 0.4101 - accuracy: 0.8214\n",
            "Epoch 12/50\n",
            "114/114 [==============================] - 77s 671ms/step - loss: 0.4042 - accuracy: 0.8184\n",
            "Epoch 13/50\n",
            "114/114 [==============================] - 77s 671ms/step - loss: 0.4025 - accuracy: 0.8297\n",
            "Epoch 14/50\n",
            "114/114 [==============================] - 77s 668ms/step - loss: 0.3769 - accuracy: 0.8374\n",
            "Epoch 15/50\n",
            "114/114 [==============================] - 77s 671ms/step - loss: 0.3776 - accuracy: 0.8369\n",
            "Epoch 16/50\n",
            "114/114 [==============================] - 77s 669ms/step - loss: 0.3609 - accuracy: 0.8490\n",
            "Epoch 17/50\n",
            "114/114 [==============================] - 77s 670ms/step - loss: 0.3486 - accuracy: 0.8524\n",
            "Epoch 18/50\n",
            "114/114 [==============================] - 77s 670ms/step - loss: 0.3365 - accuracy: 0.8582\n",
            "Epoch 19/50\n",
            "114/114 [==============================] - 76s 667ms/step - loss: 0.3288 - accuracy: 0.8582\n",
            "Epoch 20/50\n",
            "114/114 [==============================] - 77s 669ms/step - loss: 0.3231 - accuracy: 0.8557\n",
            "Epoch 21/50\n",
            "114/114 [==============================] - 77s 671ms/step - loss: 0.3158 - accuracy: 0.8623\n",
            "Epoch 22/50\n",
            "114/114 [==============================] - 77s 670ms/step - loss: 0.3053 - accuracy: 0.8654\n",
            "Epoch 23/50\n",
            "114/114 [==============================] - 77s 670ms/step - loss: 0.3002 - accuracy: 0.8695\n",
            "Epoch 24/50\n",
            "114/114 [==============================] - 77s 669ms/step - loss: 0.2911 - accuracy: 0.8673\n",
            "Epoch 25/50\n",
            "114/114 [==============================] - 76s 668ms/step - loss: 0.2682 - accuracy: 0.8831\n",
            "Epoch 26/50\n",
            "114/114 [==============================] - 77s 671ms/step - loss: 0.2608 - accuracy: 0.8889\n",
            "Epoch 27/50\n",
            "114/114 [==============================] - 76s 667ms/step - loss: 0.2619 - accuracy: 0.8847\n",
            "Epoch 28/50\n",
            "114/114 [==============================] - 77s 669ms/step - loss: 0.2475 - accuracy: 0.8919\n",
            "Epoch 29/50\n",
            "114/114 [==============================] - 76s 667ms/step - loss: 0.2533 - accuracy: 0.8955\n",
            "Epoch 30/50\n",
            "114/114 [==============================] - 77s 668ms/step - loss: 0.2474 - accuracy: 0.8969\n",
            "\n",
            "Epoch 00030: ReduceLROnPlateau reducing learning rate to 1.9999999494757503e-05.\n",
            "Epoch 31/50\n",
            "114/114 [==============================] - 77s 670ms/step - loss: 0.1933 - accuracy: 0.9129\n",
            "Epoch 32/50\n",
            "114/114 [==============================] - 77s 669ms/step - loss: 0.1819 - accuracy: 0.9226\n",
            "Epoch 33/50\n",
            "114/114 [==============================] - 77s 669ms/step - loss: 0.1827 - accuracy: 0.9248\n",
            "Epoch 34/50\n",
            "114/114 [==============================] - 77s 669ms/step - loss: 0.1719 - accuracy: 0.9276\n",
            "Epoch 35/50\n",
            "114/114 [==============================] - 77s 669ms/step - loss: 0.1724 - accuracy: 0.9298\n",
            "Epoch 36/50\n",
            "114/114 [==============================] - 77s 668ms/step - loss: 0.1691 - accuracy: 0.9364\n",
            "Epoch 37/50\n",
            "114/114 [==============================] - 77s 669ms/step - loss: 0.1697 - accuracy: 0.9348\n",
            "Epoch 38/50\n",
            "114/114 [==============================] - 77s 670ms/step - loss: 0.1618 - accuracy: 0.9381\n",
            "Epoch 39/50\n",
            "114/114 [==============================] - 76s 667ms/step - loss: 0.1675 - accuracy: 0.9375\n",
            "Epoch 40/50\n",
            "114/114 [==============================] - 77s 669ms/step - loss: 0.1573 - accuracy: 0.9378\n",
            "Epoch 41/50\n",
            "114/114 [==============================] - 77s 668ms/step - loss: 0.1576 - accuracy: 0.9372\n",
            "Epoch 42/50\n",
            "114/114 [==============================] - 77s 670ms/step - loss: 0.1579 - accuracy: 0.9397\n",
            "\n",
            "Epoch 00042: ReduceLROnPlateau reducing learning rate to 3.999999898951501e-06.\n",
            "Epoch 43/50\n",
            "114/114 [==============================] - 77s 670ms/step - loss: 0.1530 - accuracy: 0.9403\n",
            "Epoch 44/50\n",
            "114/114 [==============================] - 77s 669ms/step - loss: 0.1495 - accuracy: 0.9436\n",
            "Epoch 45/50\n",
            "114/114 [==============================] - 77s 671ms/step - loss: 0.1513 - accuracy: 0.9417\n",
            "Epoch 46/50\n",
            "114/114 [==============================] - 77s 670ms/step - loss: 0.1475 - accuracy: 0.9444\n",
            "Epoch 47/50\n",
            "114/114 [==============================] - 77s 669ms/step - loss: 0.1458 - accuracy: 0.9430\n",
            "Epoch 48/50\n",
            "114/114 [==============================] - 77s 669ms/step - loss: 0.1463 - accuracy: 0.9425\n",
            "Epoch 49/50\n",
            "114/114 [==============================] - 77s 669ms/step - loss: 0.1412 - accuracy: 0.9494\n",
            "Epoch 50/50\n",
            "114/114 [==============================] - 77s 669ms/step - loss: 0.1466 - accuracy: 0.9417\n"
          ],
          "name": "stdout"
        }
      ]
    },
    {
      "cell_type": "code",
      "metadata": {
        "id": "NnqN4twZ9Xfo",
        "colab": {
          "base_uri": "https://localhost:8080/"
        },
        "outputId": "45e0e87a-e106-4f81-c446-4a0a8c4b258f"
      },
      "source": [
        "predict_vmd = model.evaluate_generator(Test_Data_vmd, steps=None)\n",
        "predict_vmd"
      ],
      "execution_count": 17,
      "outputs": [
        {
          "output_type": "stream",
          "text": [
            "/usr/local/lib/python3.7/dist-packages/tensorflow/python/keras/engine/training.py:1973: UserWarning: `Model.evaluate_generator` is deprecated and will be removed in a future version. Please use `Model.evaluate`, which supports generators.\n",
            "  warnings.warn('`Model.evaluate_generator` is deprecated and '\n"
          ],
          "name": "stderr"
        },
        {
          "output_type": "execute_result",
          "data": {
            "text/plain": [
              "[0.6216489672660828, 0.7829457521438599]"
            ]
          },
          "metadata": {
            "tags": []
          },
          "execution_count": 17
        }
      ]
    },
    {
      "cell_type": "code",
      "metadata": {
        "id": "YjNpzzOxzF_L",
        "colab": {
          "base_uri": "https://localhost:8080/"
        },
        "outputId": "7501ece4-97ff-48ce-e9aa-3883598a1812"
      },
      "source": [
        "model1 = models.Sequential()\n",
        "model1.add(vgg16)\n",
        "model1.add(layers.Flatten())\n",
        "model1.add(layers.Dense(128, activation='relu'))\n",
        "#model.add(layers.Dense(16, activation='relu'))\n",
        "model1.add(layers.Dropout(0.5))\n",
        "model1.add(layers.Dense(num_classes, activation='softmax'))\n",
        "model1.build((img_height,img_width,3))\n",
        "model1.summary()"
      ],
      "execution_count": 18,
      "outputs": [
        {
          "output_type": "stream",
          "text": [
            "Model: \"sequential_2\"\n",
            "_________________________________________________________________\n",
            "Layer (type)                 Output Shape              Param #   \n",
            "=================================================================\n",
            "vgg16 (Functional)           (None, 16, 16, 512)       14714688  \n",
            "_________________________________________________________________\n",
            "flatten_2 (Flatten)          (None, 131072)            0         \n",
            "_________________________________________________________________\n",
            "dense_4 (Dense)              (None, 128)               16777344  \n",
            "_________________________________________________________________\n",
            "dropout_2 (Dropout)          (None, 128)               0         \n",
            "_________________________________________________________________\n",
            "dense_5 (Dense)              (None, 2)                 258       \n",
            "=================================================================\n",
            "Total params: 31,492,290\n",
            "Trainable params: 16,777,602\n",
            "Non-trainable params: 14,714,688\n",
            "_________________________________________________________________\n"
          ],
          "name": "stdout"
        }
      ]
    },
    {
      "cell_type": "code",
      "metadata": {
        "id": "AsB-wMxybdZD"
      },
      "source": [
        "from keras import optimizers\n",
        "optRMSProp=tf.keras.optimizers.RMSprop(learning_rate=0.0001, momentum=0.0001, epsilon=1e-07, name=\"RMSprop\",)\n",
        "model1.compile(optimizer=optRMSProp, loss=\"categorical_crossentropy\",metrics=['accuracy'])\n",
        "\n",
        "from tensorflow.keras import callbacks \n",
        "reduce_learning = callbacks.ReduceLROnPlateau(\n",
        "    monitor='loss',\n",
        "    factor=0.2,\n",
        "    patience=2,\n",
        "    verbose=1,\n",
        "    mode='auto',\n",
        "    min_delta=0.001,\n",
        "    cooldown=2,\n",
        "    min_lr=0)\n",
        "\n",
        "eary_stopping = callbacks.EarlyStopping(\n",
        "    monitor='loss',\n",
        "    min_delta=0,\n",
        "    patience=3,\n",
        "    verbose=1,\n",
        "    mode='auto')\n",
        "\n",
        "callbacks = [reduce_learning, eary_stopping]"
      ],
      "execution_count": 19,
      "outputs": []
    },
    {
      "cell_type": "code",
      "metadata": {
        "id": "WRw07ME5zTDL",
        "colab": {
          "base_uri": "https://localhost:8080/"
        },
        "outputId": "9bea6400-1f8a-4ef0-fbd3-8e6a993fbeea"
      },
      "source": [
        "#model1.compile(optimizer=optRMSProp, loss=\"categorical_crossentropy\",metrics=['accuracy'])\n",
        "VGG_16_original =model1.fit(Train_Data_original,epochs=eph,callbacks=callbacks)\n",
        "\n",
        "# Save the entire model as a SavedModel.\n",
        "#!mkdir -p saved_model\n",
        "#model1.save('/content/drive/MyDrive/Colab Notebooks/DL/vmd_saved_model/ori_model_32')"
      ],
      "execution_count": 20,
      "outputs": [
        {
          "output_type": "stream",
          "text": [
            "Epoch 1/50\n",
            "114/114 [==============================] - 76s 658ms/step - loss: 0.6939 - accuracy: 0.6749\n",
            "Epoch 2/50\n",
            "114/114 [==============================] - 76s 662ms/step - loss: 0.5426 - accuracy: 0.7321\n",
            "Epoch 3/50\n",
            "114/114 [==============================] - 75s 659ms/step - loss: 0.5038 - accuracy: 0.7534\n",
            "Epoch 4/50\n",
            "114/114 [==============================] - 75s 659ms/step - loss: 0.4827 - accuracy: 0.7570\n",
            "Epoch 5/50\n",
            "114/114 [==============================] - 76s 660ms/step - loss: 0.4710 - accuracy: 0.7866\n",
            "Epoch 6/50\n",
            "114/114 [==============================] - 75s 659ms/step - loss: 0.4566 - accuracy: 0.7891\n",
            "Epoch 7/50\n",
            "114/114 [==============================] - 75s 660ms/step - loss: 0.4451 - accuracy: 0.7968\n",
            "Epoch 8/50\n",
            "114/114 [==============================] - 75s 660ms/step - loss: 0.4326 - accuracy: 0.8026\n",
            "Epoch 9/50\n",
            "114/114 [==============================] - 75s 658ms/step - loss: 0.4168 - accuracy: 0.8142\n",
            "Epoch 10/50\n",
            "114/114 [==============================] - 75s 660ms/step - loss: 0.4174 - accuracy: 0.8126\n",
            "Epoch 11/50\n",
            "114/114 [==============================] - 76s 661ms/step - loss: 0.4046 - accuracy: 0.8189\n",
            "Epoch 12/50\n",
            "114/114 [==============================] - 75s 658ms/step - loss: 0.3924 - accuracy: 0.8322\n",
            "Epoch 13/50\n",
            "114/114 [==============================] - 75s 660ms/step - loss: 0.3823 - accuracy: 0.8250\n",
            "Epoch 14/50\n",
            "114/114 [==============================] - 75s 658ms/step - loss: 0.3677 - accuracy: 0.8363\n",
            "Epoch 15/50\n",
            "114/114 [==============================] - 75s 659ms/step - loss: 0.3618 - accuracy: 0.8366\n",
            "Epoch 16/50\n",
            "114/114 [==============================] - 75s 660ms/step - loss: 0.3596 - accuracy: 0.8391\n",
            "Epoch 17/50\n",
            "114/114 [==============================] - 75s 659ms/step - loss: 0.3430 - accuracy: 0.8474\n",
            "Epoch 18/50\n",
            "114/114 [==============================] - 75s 660ms/step - loss: 0.3429 - accuracy: 0.8432\n",
            "Epoch 19/50\n",
            "114/114 [==============================] - 75s 659ms/step - loss: 0.3389 - accuracy: 0.8485\n",
            "Epoch 20/50\n",
            "114/114 [==============================] - 75s 658ms/step - loss: 0.3182 - accuracy: 0.8584\n",
            "Epoch 21/50\n",
            "114/114 [==============================] - 75s 659ms/step - loss: 0.3243 - accuracy: 0.8535\n",
            "Epoch 22/50\n",
            "114/114 [==============================] - 75s 659ms/step - loss: 0.3141 - accuracy: 0.8612\n",
            "Epoch 23/50\n",
            "114/114 [==============================] - 75s 660ms/step - loss: 0.2965 - accuracy: 0.8631\n",
            "Epoch 24/50\n",
            "114/114 [==============================] - 76s 660ms/step - loss: 0.2964 - accuracy: 0.8670\n",
            "Epoch 25/50\n",
            "114/114 [==============================] - 75s 660ms/step - loss: 0.2900 - accuracy: 0.8709\n",
            "Epoch 26/50\n",
            "114/114 [==============================] - 75s 659ms/step - loss: 0.2941 - accuracy: 0.8756\n",
            "Epoch 27/50\n",
            "114/114 [==============================] - 75s 659ms/step - loss: 0.2851 - accuracy: 0.8728\n",
            "Epoch 28/50\n",
            "114/114 [==============================] - 75s 659ms/step - loss: 0.2741 - accuracy: 0.8745\n",
            "Epoch 29/50\n",
            "114/114 [==============================] - 75s 659ms/step - loss: 0.2673 - accuracy: 0.8844\n",
            "Epoch 30/50\n",
            "114/114 [==============================] - 76s 661ms/step - loss: 0.2583 - accuracy: 0.8784\n",
            "Epoch 31/50\n",
            "114/114 [==============================] - 75s 660ms/step - loss: 0.2717 - accuracy: 0.8720\n",
            "Epoch 32/50\n",
            "114/114 [==============================] - 75s 658ms/step - loss: 0.2542 - accuracy: 0.8844\n",
            "Epoch 33/50\n",
            "114/114 [==============================] - 76s 662ms/step - loss: 0.2450 - accuracy: 0.8980\n",
            "Epoch 34/50\n",
            "114/114 [==============================] - 75s 659ms/step - loss: 0.2449 - accuracy: 0.8842\n",
            "Epoch 35/50\n",
            "114/114 [==============================] - 75s 658ms/step - loss: 0.2376 - accuracy: 0.8913\n",
            "Epoch 36/50\n",
            "114/114 [==============================] - 76s 660ms/step - loss: 0.2276 - accuracy: 0.8969\n",
            "Epoch 37/50\n",
            "114/114 [==============================] - 75s 658ms/step - loss: 0.2320 - accuracy: 0.8883\n",
            "Epoch 38/50\n",
            "114/114 [==============================] - 76s 662ms/step - loss: 0.2341 - accuracy: 0.8875\n",
            "\n",
            "Epoch 00038: ReduceLROnPlateau reducing learning rate to 1.9999999494757503e-05.\n",
            "Epoch 39/50\n",
            "114/114 [==============================] - 75s 659ms/step - loss: 0.1846 - accuracy: 0.9168\n",
            "Epoch 40/50\n",
            "114/114 [==============================] - 75s 658ms/step - loss: 0.1821 - accuracy: 0.9195\n",
            "Epoch 41/50\n",
            "114/114 [==============================] - 75s 659ms/step - loss: 0.1808 - accuracy: 0.9204\n",
            "Epoch 42/50\n",
            "114/114 [==============================] - 75s 660ms/step - loss: 0.1818 - accuracy: 0.9201\n",
            "Epoch 43/50\n",
            "114/114 [==============================] - 75s 659ms/step - loss: 0.1793 - accuracy: 0.9237\n",
            "Epoch 44/50\n",
            "114/114 [==============================] - 76s 661ms/step - loss: 0.1704 - accuracy: 0.9240\n",
            "Epoch 45/50\n",
            "114/114 [==============================] - 75s 660ms/step - loss: 0.1733 - accuracy: 0.9284\n",
            "Epoch 46/50\n",
            "114/114 [==============================] - 75s 659ms/step - loss: 0.1734 - accuracy: 0.9198\n",
            "\n",
            "Epoch 00046: ReduceLROnPlateau reducing learning rate to 3.999999898951501e-06.\n",
            "Epoch 47/50\n",
            "114/114 [==============================] - 75s 659ms/step - loss: 0.1652 - accuracy: 0.9276\n",
            "Epoch 48/50\n",
            "114/114 [==============================] - 75s 658ms/step - loss: 0.1694 - accuracy: 0.9301\n",
            "Epoch 49/50\n",
            "114/114 [==============================] - 75s 657ms/step - loss: 0.1664 - accuracy: 0.9314\n",
            "\n",
            "Epoch 00049: ReduceLROnPlateau reducing learning rate to 7.999999979801942e-07.\n",
            "Epoch 50/50\n",
            "114/114 [==============================] - 75s 659ms/step - loss: 0.1692 - accuracy: 0.9314\n",
            "Epoch 00050: early stopping\n"
          ],
          "name": "stdout"
        }
      ]
    },
    {
      "cell_type": "code",
      "metadata": {
        "id": "3iGratlh9iT0",
        "colab": {
          "base_uri": "https://localhost:8080/"
        },
        "outputId": "37c91d35-00f2-4a44-a044-408bac61e04c"
      },
      "source": [
        "predict_original = model1.evaluate_generator(Test_Data_original, steps=None)\n",
        "predict_original"
      ],
      "execution_count": 21,
      "outputs": [
        {
          "output_type": "stream",
          "text": [
            "/usr/local/lib/python3.7/dist-packages/tensorflow/python/keras/engine/training.py:1973: UserWarning: `Model.evaluate_generator` is deprecated and will be removed in a future version. Please use `Model.evaluate`, which supports generators.\n",
            "  warnings.warn('`Model.evaluate_generator` is deprecated and '\n"
          ],
          "name": "stderr"
        },
        {
          "output_type": "execute_result",
          "data": {
            "text/plain": [
              "[1.989608883857727, 0.634551465511322]"
            ]
          },
          "metadata": {
            "tags": []
          },
          "execution_count": 21
        }
      ]
    },
    {
      "cell_type": "code",
      "metadata": {
        "id": "MvjRf416KvrU",
        "colab": {
          "base_uri": "https://localhost:8080/"
        },
        "outputId": "873fe7b8-2b13-4c73-a16b-44159afeb028"
      },
      "source": [
        "print('Accuracy: ' ,VGG_16_vmd.history['accuracy'])\n",
        "print('Loss: ' ,VGG_16_vmd.history['loss'])"
      ],
      "execution_count": 22,
      "outputs": [
        {
          "output_type": "stream",
          "text": [
            "Accuracy:  [0.6463920474052429, 0.7069394588470459, 0.7370749115943909, 0.747304379940033, 0.7638927102088928, 0.7696986198425293, 0.7871164083480835, 0.7860105037689209, 0.7959635257720947, 0.804810643196106, 0.8213989734649658, 0.8183577656745911, 0.8296931385993958, 0.8374343514442444, 0.8368813991546631, 0.8490461707115173, 0.8523638248443604, 0.8581697344779968, 0.8581697344779968, 0.8556814789772034, 0.8623168468475342, 0.8653580546379089, 0.8695051074028015, 0.8672933578491211, 0.8830522298812866, 0.8888581991195679, 0.8847110867500305, 0.8918993473052979, 0.8954935073852539, 0.8968758583068848, 0.9129112362861633, 0.9225877523422241, 0.9247995615005493, 0.927564263343811, 0.9297760725021362, 0.9364113807678223, 0.9347525835037231, 0.9380702376365662, 0.9375172853469849, 0.9377937316894531, 0.9372407793998718, 0.9397290349006653, 0.9402819871902466, 0.9435996413230896, 0.9416643381118774, 0.9444290995597839, 0.9430467486381531, 0.9424937963485718, 0.9494056105613708, 0.9416643381118774]\n",
            "Loss:  [0.7534438371658325, 0.5915808081626892, 0.547900378704071, 0.5204697251319885, 0.5111991763114929, 0.49578380584716797, 0.4631976783275604, 0.4498462378978729, 0.44549721479415894, 0.436383455991745, 0.4100775420665741, 0.404234379529953, 0.4025075435638428, 0.3769143223762512, 0.3775638937950134, 0.3609459698200226, 0.34861329197883606, 0.33654510974884033, 0.3288411498069763, 0.3231390714645386, 0.31580042839050293, 0.3053198754787445, 0.30016088485717773, 0.29111409187316895, 0.2681716978549957, 0.2608376741409302, 0.26185500621795654, 0.24752487242221832, 0.2533009946346283, 0.24740789830684662, 0.1932837963104248, 0.1819014549255371, 0.18268591165542603, 0.17189641296863556, 0.1723579466342926, 0.16914917528629303, 0.16967321932315826, 0.16176146268844604, 0.16745872795581818, 0.15728752315044403, 0.1576249748468399, 0.15789708495140076, 0.15295986831188202, 0.14953765273094177, 0.1513098180294037, 0.1475309431552887, 0.14583851397037506, 0.14630067348480225, 0.1411522924900055, 0.14657804369926453]\n"
          ],
          "name": "stdout"
        }
      ]
    },
    {
      "cell_type": "code",
      "metadata": {
        "id": "GxZaPG8bhpe0",
        "colab": {
          "base_uri": "https://localhost:8080/"
        },
        "outputId": "189eb037-9754-4bc0-9adf-9c72130b200d"
      },
      "source": [
        "print('Accuracy: ' ,VGG_16_original.history['accuracy'])\n",
        "print('Loss: ' ,VGG_16_original.history['loss'])"
      ],
      "execution_count": 23,
      "outputs": [
        {
          "output_type": "stream",
          "text": [
            "Accuracy:  [0.6748687028884888, 0.732098400592804, 0.7533867955207825, 0.7569808959960938, 0.7865634560585022, 0.7890517115592957, 0.7967929244041443, 0.8025988340377808, 0.8142106533050537, 0.8125518560409546, 0.8189107179641724, 0.8321813941001892, 0.8249930739402771, 0.8363284468650818, 0.83660489320755, 0.8390931487083435, 0.8473873138427734, 0.8432402610778809, 0.848493218421936, 0.8584462404251099, 0.853469729423523, 0.8612109422683716, 0.8631462454795837, 0.8670168519020081, 0.8708874583244324, 0.875587522983551, 0.8728227615356445, 0.8744816184043884, 0.8844346404075623, 0.8783522248268127, 0.871993362903595, 0.8844346404075623, 0.8979817628860474, 0.8841581344604492, 0.8913463950157166, 0.8968758583068848, 0.8883052468299866, 0.8874757885932922, 0.9167818427085876, 0.9195466041564941, 0.9203760027885437, 0.9200995564460754, 0.9236936569213867, 0.9239701628684998, 0.9283937215805054, 0.9198230504989624, 0.927564263343811, 0.9300525188446045, 0.9314348697662354, 0.9314348697662354]\n",
            "Loss:  [0.6938821077346802, 0.5426255464553833, 0.5037717223167419, 0.4827125072479248, 0.471019446849823, 0.45661017298698425, 0.44512689113616943, 0.4326269328594208, 0.41675257682800293, 0.41736575961112976, 0.40455782413482666, 0.39241188764572144, 0.3823445737361908, 0.3677303194999695, 0.3617934584617615, 0.3595831096172333, 0.3430091142654419, 0.34287863969802856, 0.3389311730861664, 0.31817495822906494, 0.32426896691322327, 0.31406861543655396, 0.29645785689353943, 0.29642167687416077, 0.29003626108169556, 0.2940964698791504, 0.2851065695285797, 0.2741014063358307, 0.2673013210296631, 0.2583107352256775, 0.2717302441596985, 0.2542136609554291, 0.24497970938682556, 0.2448984533548355, 0.23759709298610687, 0.2275504469871521, 0.23198217153549194, 0.23409922420978546, 0.18462969362735748, 0.18214155733585358, 0.180791974067688, 0.18182185292243958, 0.17931844294071198, 0.1703682690858841, 0.17331856489181519, 0.1734061986207962, 0.16523057222366333, 0.16938968002796173, 0.1664322465658188, 0.16920262575149536]\n"
          ],
          "name": "stdout"
        }
      ]
    },
    {
      "cell_type": "code",
      "metadata": {
        "id": "-FT4eEaDz3oa",
        "colab": {
          "base_uri": "https://localhost:8080/",
          "height": 249
        },
        "outputId": "a65482c2-f242-4b26-dadd-9216209f1dce"
      },
      "source": [
        "plt.figure(figsize=(40,20))\n",
        "\n",
        "plt.subplot(5,5,1)\n",
        "plt.plot(VGG_16_vmd.history['accuracy'])\n",
        "plt.plot(VGG_16_original.history['accuracy'])\n",
        "#plt.title('Accuracy')\n",
        "plt.ylabel('accuracy')\n",
        "plt.xlabel('epoch')\n",
        "plt.legend(['VMD','Original'], loc='lower right')\n",
        "\n",
        "\n",
        "# summarize history for loss\n",
        "plt.subplot(5,5,2)\n",
        "plt.plot(VGG_16_vmd.history['loss'])\n",
        "plt.plot(VGG_16_original.history['loss'])\n",
        "#plt.title('model loss')\n",
        "plt.ylabel('loss')\n",
        "plt.xlabel('epoch')\n",
        "plt.legend(['VMD','Original'], loc='upper right')\n",
        "plt.show()"
      ],
      "execution_count": 26,
      "outputs": [
        {
          "output_type": "display_data",
          "data": {
            "image/png": "[encoded data removed]",
            "text/plain": [
              "<Figure size 2880x1440 with 2 Axes>"
            ]
          },
          "metadata": {
            "tags": [],
            "needs_background": "light"
          }
        }
      ]
    },
    {
      "cell_type": "code",
      "metadata": {
        "id": "EAKmmcPpiaih",
        "colab": {
          "base_uri": "https://localhost:8080/",
          "height": 568
        },
        "outputId": "a2b5b43e-6778-4d05-a7aa-e26b5234091b"
      },
      "source": [
        "8print('VMD')\n",
        "predict1 = model.predict(Test_Data_vmd, steps=None)\n",
        "print(predict1)\n",
        "\n",
        "in1=[]\n",
        "for i in np.arange(predict1.shape[0]):\n",
        "  A= np.max(predict1[i])\n",
        "  index_1= np.where(predict1[i]==A)\n",
        "  in1.append(index_1[0][0])\n",
        "in1=np.array(in1)\n",
        "\n",
        "from sklearn import metrics\n",
        "true_classes = Test_Data_vmd.classes\n",
        "class_labels = list(Test_Data_vmd.class_indices.keys()) \n",
        "predicted_classes = (in1)\n",
        "report = metrics.classification_report(true_classes, predicted_classes, target_names=class_labels)\n",
        "print(report)\n",
        "\n",
        "from sklearn.metrics import confusion_matrix\n",
        "from mlxtend.plotting import plot_confusion_matrix\n",
        "cm1 = confusion_matrix(true_classes,predicted_classes)\n",
        "#print(cm2)\n",
        "#Visualizing confusion matrix\n",
        "fig, ax = plot_confusion_matrix(conf_mat=cm1, colorbar=True)\n",
        "plt.show()"
      ],
      "execution_count": 24,
      "outputs": [
        {
          "output_type": "stream",
          "text": [
            "VMD\n",
            "[[1.9362162e-01 8.0637836e-01]\n",
            " [9.8714519e-01 1.2854788e-02]\n",
            " [9.7757876e-01 2.2421237e-02]\n",
            " ...\n",
            " [7.2914019e-04 9.9927086e-01]\n",
            " [1.7174432e-02 9.8282558e-01]\n",
            " [5.1590115e-01 4.8409888e-01]]\n",
            "                        precision    recall  f1-score   support\n",
            "\n",
            "Negative for Pneumonia       0.73      0.64      0.68       331\n",
            "    Typical Appearance       0.81      0.87      0.83       572\n",
            "\n",
            "              accuracy                           0.78       903\n",
            "             macro avg       0.77      0.75      0.76       903\n",
            "          weighted avg       0.78      0.78      0.78       903\n",
            "\n"
          ],
          "name": "stdout"
        },
        {
          "output_type": "display_data",
          "data": {
            "image/png": "[encoded data removed]",
            "text/plain": [
              "<Figure size 432x288 with 2 Axes>"
            ]
          },
          "metadata": {
            "tags": [],
            "needs_background": "light"
          }
        }
      ]
    },
    {
      "cell_type": "code",
      "metadata": {
        "id": "39FykWquY-7w",
        "colab": {
          "base_uri": "https://localhost:8080/",
          "height": 568
        },
        "outputId": "c279290c-85aa-4782-ef20-e6cf055b46e5"
      },
      "source": [
        "print('Original')\n",
        "predict1 = model1.predict(Test_Data_original, steps=None)\n",
        "print(predict1)\n",
        "\n",
        "in1=[]\n",
        "for i in np.arange(predict1.shape[0]):\n",
        "  A= np.max(predict1[i])\n",
        "  index_1= np.where(predict1[i]==A)\n",
        "  in1.append(index_1[0][0])\n",
        "in1=np.array(in1)\n",
        "\n",
        "from sklearn import metrics\n",
        "true_classes = Test_Data_original.classes\n",
        "class_labels = list(Test_Data_original.class_indices.keys()) \n",
        "predicted_classes = (in1)\n",
        "report = metrics.classification_report(true_classes, predicted_classes, target_names=class_labels)\n",
        "print(report)\n",
        "\n",
        "from sklearn.metrics import confusion_matrix\n",
        "from mlxtend.plotting import plot_confusion_matrix\n",
        "cm1 = confusion_matrix(true_classes,predicted_classes)\n",
        "#print(cm2)\n",
        "#Visualizing confusion matrix\n",
        "fig, ax = plot_confusion_matrix(conf_mat=cm1, colorbar=True)\n",
        "plt.show()"
      ],
      "execution_count": 25,
      "outputs": [
        {
          "output_type": "stream",
          "text": [
            "Original\n",
            "[[0.51373684 0.48626316]\n",
            " [0.51093775 0.48906225]\n",
            " [0.01720034 0.98279965]\n",
            " ...\n",
            " [0.03836665 0.9616334 ]\n",
            " [0.00688334 0.9931166 ]\n",
            " [0.58555955 0.41444048]]\n",
            "                        precision    recall  f1-score   support\n",
            "\n",
            "Negative for Pneumonia       0.50      0.16      0.24       331\n",
            "    Typical Appearance       0.65      0.91      0.76       572\n",
            "\n",
            "              accuracy                           0.63       903\n",
            "             macro avg       0.58      0.53      0.50       903\n",
            "          weighted avg       0.60      0.63      0.57       903\n",
            "\n"
          ],
          "name": "stdout"
        },
        {
          "output_type": "display_data",
          "data": {
            "image/png": "[encoded data removed]",
            "text/plain": [
              "<Figure size 432x288 with 2 Axes>"
            ]
          },
          "metadata": {
            "tags": [],
            "needs_background": "light"
          }
        }
      ]
    },
    {
      "cell_type": "code",
      "metadata": {
        "id": "ajY9RavNs_Cj"
      },
      "source": [
        "#new_model = tf.keras.models.load_model('/content/drive/MyDrive/Colab Notebooks/DL/vmd_saved_model/ori_model/')"
      ],
      "execution_count": null,
      "outputs": []
    },
    {
      "cell_type": "code",
      "metadata": {
        "id": "8iCAB4OeK3Jo",
        "colab": {
          "base_uri": "https://localhost:8080/",
          "height": 69
        },
        "outputId": "33a7f91b-0612-4815-b610-3c999c24a7f9"
      },
      "source": [
        "'''from sklearn.metrics import classification_report, confusion_matrix\n",
        "#Confution Matrix and Classification Report\n",
        "Y_pred = new_model.predict_generator(Test_Data_original)\n",
        "y_pred = np.argmax(Y_pred, axis=1)\n",
        "print(y_pred)\n",
        "print('Confusion Matrix')\n",
        "print(confusion_matrix(Test_Data_original.classes, y_pred))\n",
        "print('Classification Report')\n",
        "target_names = ['Positive','Negative']\n",
        "print(classification_report(Test_Data_original.classes, y_pred, target_names=target_names))'''"
      ],
      "execution_count": null,
      "outputs": [
        {
          "output_type": "execute_result",
          "data": {
            "application/vnd.google.colaboratory.intrinsic+json": {
              "type": "string"
            },
            "text/plain": [
              "\"from sklearn.metrics import classification_report, confusion_matrix\\n#Confution Matrix and Classification Report\\nY_pred = new_model.predict_generator(Test_Data_original)\\ny_pred = np.argmax(Y_pred, axis=1)\\nprint(y_pred)\\nprint('Confusion Matrix')\\nprint(confusion_matrix(Test_Data_original.classes, y_pred))\\nprint('Classification Report')\\ntarget_names = ['Positive','Negative']\\nprint(classification_report(Test_Data_original.classes, y_pred, target_names=target_names))\""
            ]
          },
          "metadata": {
            "tags": []
          },
          "execution_count": 26
        }
      ]
    },
    {
      "cell_type": "code",
      "metadata": {
        "id": "zuCujZ6It9RN"
      },
      "source": [
        "#print(Test_Data_original.classes)"
      ],
      "execution_count": null,
      "outputs": []
    },
    {
      "cell_type": "code",
      "metadata": {
        "colab": {
          "base_uri": "https://localhost:8080/",
          "height": 52
        },
        "id": "ToulRm5Xwku_",
        "outputId": "c941defd-253c-4ade-dff4-ac6ee0c77648"
      },
      "source": [
        "'''import cv2\n",
        "img = cv2.imread('/content/Train_Data_original/Negative/000c3a3f293f.jpg')\n",
        "img = cv2.cvtColor(img, cv2.COLOR_BGR2RGB)\n",
        "img = cv2.resize(img,(512,512)) #resize image to 128 x 128\n",
        "img = np.array(img)\n",
        "img = img.astype('float32')\n",
        "img /= 255 #normalization\n",
        "ar = np.array(img)'''"
      ],
      "execution_count": null,
      "outputs": [
        {
          "output_type": "execute_result",
          "data": {
            "application/vnd.google.colaboratory.intrinsic+json": {
              "type": "string"
            },
            "text/plain": [
              "\"import cv2\\nimg = cv2.imread('/content/Train_Data_original/Negative/000c3a3f293f.jpg')\\nimg = cv2.cvtColor(img, cv2.COLOR_BGR2RGB)\\nimg = cv2.resize(img,(512,512)) #resize image to 128 x 128\\nimg = np.array(img)\\nimg = img.astype('float32')\\nimg /= 255 #normalization\\nar = np.array(img)\""
            ]
          },
          "metadata": {
            "tags": []
          },
          "execution_count": 28
        }
      ]
    },
    {
      "cell_type": "code",
      "metadata": {
        "id": "CHatRX8oxtR2"
      },
      "source": [
        "#ar.shape"
      ],
      "execution_count": null,
      "outputs": []
    },
    {
      "cell_type": "code",
      "metadata": {
        "id": "eIa9DFjDvHqs"
      },
      "source": [
        "#new_model.predict(ar)"
      ],
      "execution_count": null,
      "outputs": []
    },
    {
      "cell_type": "code",
      "metadata": {
        "colab": {
          "base_uri": "https://localhost:8080/",
          "height": 52
        },
        "id": "_hL7IS7hxnEo",
        "outputId": "b0ed2ee1-720b-40cb-c4df-c642928ae6e9"
      },
      "source": [
        "'''images = image.load_img(\"/content/Train_Data_original/Negative/000c3a3f293f.jpg\", target_size=(512, 512))    \n",
        "x = image.img_to_array(images)\n",
        "#x = tf.image.rgb_to_grayscale(x)\n",
        "x = np.expand_dims(x, axis=0)\n",
        "x = x/255.0\n",
        "\n",
        "#model = tf.keras.models.load_model('num_reader.model')\n",
        "new_model.predict(x).argmax()'''"
      ],
      "execution_count": null,
      "outputs": [
        {
          "output_type": "execute_result",
          "data": {
            "application/vnd.google.colaboratory.intrinsic+json": {
              "type": "string"
            },
            "text/plain": [
              "'images = image.load_img(\"/content/Train_Data_original/Negative/000c3a3f293f.jpg\", target_size=(512, 512))    \\nx = image.img_to_array(images)\\n#x = tf.image.rgb_to_grayscale(x)\\nx = np.expand_dims(x, axis=0)\\nx = x/255.0\\n\\n#model = tf.keras.models.load_model(\\'num_reader.model\\')\\nnew_model.predict(x).argmax()'"
            ]
          },
          "metadata": {
            "tags": []
          },
          "execution_count": 31
        }
      ]
    },
    {
      "cell_type": "code",
      "metadata": {
        "colab": {
          "base_uri": "https://localhost:8080/",
          "height": 52
        },
        "id": "7Pw5yNNV-uXs",
        "outputId": "f8676f1f-4dd5-43fe-8d68-a70a7f5e6e71"
      },
      "source": [
        "'''new_model_ori = tf.keras.models.load_model('/content/drive/MyDrive/Colab Notebooks/DL/vmd_saved_model/ori_model/')\n",
        "new_model_vmd = tf.keras.models.load_model('/content/drive/MyDrive/Colab Notebooks/DL/vmd_saved_model/vmd_model/')'''"
      ],
      "execution_count": null,
      "outputs": [
        {
          "output_type": "execute_result",
          "data": {
            "application/vnd.google.colaboratory.intrinsic+json": {
              "type": "string"
            },
            "text/plain": [
              "\"new_model_ori = tf.keras.models.load_model('/content/drive/MyDrive/Colab Notebooks/DL/vmd_saved_model/ori_model/')\\nnew_model_vmd = tf.keras.models.load_model('/content/drive/MyDrive/Colab Notebooks/DL/vmd_saved_model/vmd_model/')\""
            ]
          },
          "metadata": {
            "tags": []
          },
          "execution_count": 32
        }
      ]
    },
    {
      "cell_type": "code",
      "metadata": {
        "colab": {
          "base_uri": "https://localhost:8080/",
          "height": 145
        },
        "id": "CVGuast_7gZH",
        "outputId": "b205cb2f-4060-4b61-f5b6-4b0eae6136a3"
      },
      "source": [
        "'''path_vmd = '/content/Train_Data_vmd'\n",
        "path_ori = '/content/Train_Data_original''''"
      ],
      "execution_count": null,
      "outputs": [
        {
          "output_type": "error",
          "ename": "SyntaxError",
          "evalue": "ignored",
          "traceback": [
            "\u001b[0;36m  File \u001b[0;32m\"<ipython-input-33-a410fdf3de2f>\"\u001b[0;36m, line \u001b[0;32m2\u001b[0m\n\u001b[0;31m    path_ori = '/content/Train_Data_original''''\u001b[0m\n\u001b[0m                                                \n^\u001b[0m\n\u001b[0;31mSyntaxError\u001b[0m\u001b[0;31m:\u001b[0m EOL while scanning string literal\n"
          ]
        }
      ]
    },
    {
      "cell_type": "code",
      "metadata": {
        "id": "kzC8esc7y-zu"
      },
      "source": [
        "'''# read image\n",
        "img_lst = []\n",
        "l = 0\n",
        "for fol in os.listdir(path_ori):\n",
        "  for img_file in os.listdir(os.path.join(path_ori,fol)):\n",
        "    img_path = os.path.join(path_ori,fol,img_file)\n",
        "    images = image.load_img(img_path, target_size=(512, 512))    \n",
        "    x = image.img_to_array(images)\n",
        "    x = np.expand_dims(x, axis=0)\n",
        "    x = x/255.0\n",
        "    if new_model_ori.predict(x).argmax() != l:\n",
        "      img_path = os.path.join(path_vmd,fol,img_file)\n",
        "      images = image.load_img(img_path, target_size=(512, 512))    \n",
        "      x = image.img_to_array(images)\n",
        "      x = np.expand_dims(x, axis=0)\n",
        "      x = x/255.0\n",
        "      if new_model_vmd.predict(x).argmax() == l:\n",
        "        img_lst.append(os.path.join(fol,img_file))\n",
        "  l += 1'''"
      ],
      "execution_count": null,
      "outputs": []
    },
    {
      "cell_type": "code",
      "metadata": {
        "id": "n9jPxfM5A37D"
      },
      "source": [
        "#len(img_lst)"
      ],
      "execution_count": null,
      "outputs": []
    },
    {
      "cell_type": "code",
      "metadata": {
        "id": "_ZMCMkclHyKo"
      },
      "source": [
        "'''np.savetxt(\"/content/drive/MyDrive/Colab Notebooks/DL/GFG.csv\", \n",
        "           img_lst,\n",
        "           delimiter =\", \", \n",
        "           fmt ='% s')'''"
      ],
      "execution_count": null,
      "outputs": []
    },
    {
      "cell_type": "code",
      "metadata": {
        "id": "VTkUzIk68iev"
      },
      "source": [
        ""
      ],
      "execution_count": null,
      "outputs": []
    }
  ]
}