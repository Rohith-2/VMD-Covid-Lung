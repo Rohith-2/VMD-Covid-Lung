{
  "nbformat": 4,
  "nbformat_minor": 0,
  "metadata": {
    "accelerator": "GPU",
    "colab": {
      "name": "Copy of VGG16-COVID.ipynb",
      "provenance": [],
      "collapsed_sections": [],
      "include_colab_link": true
    },
    "kernelspec": {
      "display_name": "Python 3",
      "name": "python3"
    },
    "language_info": {
      "name": "python"
    }
  },
  "cells": [
    {
      "cell_type": "markdown",
      "metadata": {
        "id": "view-in-github",
        "colab_type": "text"
      },
      "source": [
        "<a href=\"https://colab.research.google.com/github/Rohith-2/VMD-Covid-Lung/blob/main/1D_VMD-512ipynb\" target=\"_parent\"><img src=\"https://colab.research.google.com/assets/colab-badge.svg\" alt=\"Open In Colab\"/></a>"
      ]
    },
    {
      "cell_type": "markdown",
      "metadata": {
        "id": "F73AdTPg4kWH"
      },
      "source": [
        "# Imports`"
      ]
    },
    {
      "cell_type": "code",
      "metadata": {
        "id": "AxR6Y7aJi-fd"
      },
      "source": [
        "! pip install -q kaggle\n",
        "from google.colab import files\n",
        "files.upload()\n",
        "! mkdir ~/.kaggle\n",
        "! cp kaggle.json ~/.kaggle/\n",
        "! chmod 600 ~/.kaggle/kaggle.json\n",
        "! kaggle datasets download -d rohithramakrishnan/datalung-classified\n",
        "! mkdir Dataset\n",
        "! unzip datalung-classified.zip -d Dataset"
      ],
      "execution_count": null,
      "outputs": []
    },
    {
      "cell_type": "code",
      "metadata": {
        "id": "o4XhUSTf0GSy"
      },
      "source": [
        "! rm -rf \"/content/Dataset/Lung/vmd/Atypical Appearance\"\n",
        "! rm -rf \"/content/Dataset/Lung/vmd/Indeterminate Appearance\"\n",
        "! rm -rf \"/content/Dataset/Lung/Original/Atypical Appearance\"\n",
        "! rm -rf \"/content/Dataset/Lung/Original/Indeterminate Appearance\"\n",
        "! rm -rf \"/content/sample_data\"\n",
        "! rm \"/content/datalung-classified.zip\""
      ],
      "execution_count": 2,
      "outputs": []
    },
    {
      "cell_type": "code",
      "metadata": {
        "id": "CPrfxrPGjeaX"
      },
      "source": [
        "import os \n",
        "import cv2\n",
        "import numpy as np\n",
        "import tensorflow as tf\n",
        "import matplotlib.pyplot as plt\n",
        "from tensorflow import keras\n",
        "from tensorflow.keras.utils import to_categorical\n",
        "from sklearn.model_selection import train_test_split\n",
        "from tensorflow.keras.applications import VGG16\n",
        "from tensorflow.keras.applications import InceptionV3\n",
        "from tensorflow.keras.applications import nasnet\n",
        "from tensorflow.keras import models\n",
        "from tensorflow.keras import Model\n",
        "from tensorflow.keras import layers\n",
        "from tensorflow.keras import optimizers\n",
        "from tensorflow.keras import callbacks \n",
        "from glob import glob\n",
        "from keras import optimizers\n",
        "from sklearn import metrics\n",
        "from sklearn.metrics import confusion_matrix\n",
        "from mlxtend.plotting import plot_confusion_matrix"
      ],
      "execution_count": 3,
      "outputs": []
    },
    {
      "cell_type": "code",
      "metadata": {
        "colab": {
          "base_uri": "https://localhost:8080/"
        },
        "id": "7TWv9m-OnHDG",
        "outputId": "66c40bbc-807b-4ea7-f437-02499baf1e45"
      },
      "source": [
        "size=512\n",
        "train_datagen = tf.keras.preprocessing.image.ImageDataGenerator(rescale=1./255,validation_split=0.2,vertical_flip=True)\n",
        "sees=66\n",
        "\n",
        "Train_Data = train_datagen.flow_from_directory(\n",
        "          '/content/Dataset/Lung/vmd',\n",
        "          target_size=(size, size),\n",
        "          batch_size=32,\n",
        "          class_mode='categorical',\n",
        "          subset='training',seed=sees)\n",
        "\n",
        "\n",
        "Test_Data = train_datagen.flow_from_directory(\n",
        "        '/content/Dataset/Lung/vmd',\n",
        "        target_size=(size, size),\n",
        "        batch_size=1,\n",
        "        shuffle=False,\n",
        "        class_mode='categorical',\n",
        "        subset='validation',seed=sees)\n",
        "\n",
        "Train_Data_OG = train_datagen.flow_from_directory(\n",
        "          '/content/Dataset/Lung/Original',\n",
        "          target_size=(size, size),\n",
        "          batch_size=32,\n",
        "          class_mode='categorical',\n",
        "          subset='training',seed=sees)\n",
        "\n",
        "\n",
        "Test_Data_OG = train_datagen.flow_from_directory(\n",
        "        '/content/Dataset/Lung/Original',\n",
        "        target_size=(size, size),\n",
        "        batch_size=1,\n",
        "        shuffle=False,\n",
        "        class_mode='categorical',\n",
        "        subset='validation',seed=sees)"
      ],
      "execution_count": 4,
      "outputs": [
        {
          "output_type": "stream",
          "text": [
            "Found 3617 images belonging to 2 classes.\n",
            "Found 903 images belonging to 2 classes.\n",
            "Found 3617 images belonging to 2 classes.\n",
            "Found 903 images belonging to 2 classes.\n"
          ],
          "name": "stdout"
        }
      ]
    },
    {
      "cell_type": "markdown",
      "metadata": {
        "id": "SaAldwDI4SyT"
      },
      "source": [
        "# VGG-16"
      ]
    },
    {
      "cell_type": "code",
      "metadata": {
        "id": "3AxEkV-HslZK",
        "colab": {
          "base_uri": "https://localhost:8080/"
        },
        "outputId": "aa65b7d4-9a19-4770-cb8b-1c35242b1cf4"
      },
      "source": [
        "vgg16= tf.keras.applications.VGG16(\n",
        "    include_top=False,\n",
        "    weights='imagenet',input_shape=(size,size,3)\n",
        ")\n",
        "# Freeze all the layers\n",
        "for layer in vgg16.layers[:]:\n",
        "    layer.trainable = False"
      ],
      "execution_count": 5,
      "outputs": [
        {
          "output_type": "stream",
          "text": [
            "Downloading data from https://storage.googleapis.com/tensorflow/keras-applications/vgg16/vgg16_weights_tf_dim_ordering_tf_kernels_notop.h5\n",
            "58892288/58889256 [==============================] - 0s 0us/step\n"
          ],
          "name": "stdout"
        }
      ]
    },
    {
      "cell_type": "code",
      "metadata": {
        "id": "2gmQfjdI16Mi",
        "colab": {
          "base_uri": "https://localhost:8080/"
        },
        "outputId": "4a718415-7131-4fe3-871f-f0976ee4a50f"
      },
      "source": [
        "  num_classes = 2\n",
        "# Create the model\n",
        "  model = models.Sequential()\n",
        "\n",
        "  # Add the vgg convolutional base model\n",
        "  model.add(vgg16)\n",
        "  # Add new layers\n",
        "\n",
        "  model.add(layers.Flatten())\n",
        "  model.add(layers.Dense(512, activation='relu'))\n",
        "  model.add(layers.Dropout(0.3))\n",
        "  model.add(layers.Dense(num_classes, activation='softmax'))\n",
        "  model.build((size,size,3))\n",
        "  # Show a summary of the model. Check the number of trainable parameters\n",
        "  model.summary()\n",
        "\n",
        "# Create the model\n",
        "  model1 = models.Sequential()\n",
        "\n",
        "  # Add the vgg convolutional base model\n",
        "  model1.add(vgg16)\n",
        "  # Add new layers\n",
        "\n",
        "  model1.add(layers.Flatten())\n",
        "  model1.add(layers.Dense(512, activation='relu'))\n",
        "  model1.add(layers.Dropout(0.3))\n",
        "  model1.add(layers.Dense(num_classes, activation='softmax'))\n",
        "  model1.build((size,size,3))\n",
        "  # Show a summary of the model. Check the number of trainable parameters"
      ],
      "execution_count": 6,
      "outputs": [
        {
          "output_type": "stream",
          "text": [
            "Model: \"sequential\"\n",
            "_________________________________________________________________\n",
            "Layer (type)                 Output Shape              Param #   \n",
            "=================================================================\n",
            "vgg16 (Functional)           (None, 16, 16, 512)       14714688  \n",
            "_________________________________________________________________\n",
            "flatten (Flatten)            (None, 131072)            0         \n",
            "_________________________________________________________________\n",
            "dense (Dense)                (None, 512)               67109376  \n",
            "_________________________________________________________________\n",
            "dropout (Dropout)            (None, 512)               0         \n",
            "_________________________________________________________________\n",
            "dense_1 (Dense)              (None, 2)                 1026      \n",
            "=================================================================\n",
            "Total params: 81,825,090\n",
            "Trainable params: 67,110,402\n",
            "Non-trainable params: 14,714,688\n",
            "_________________________________________________________________\n"
          ],
          "name": "stdout"
        }
      ]
    },
    {
      "cell_type": "code",
      "metadata": {
        "id": "BGGhS1S02H86"
      },
      "source": [
        "optRMSProp=tf.keras.optimizers.RMSprop(learning_rate=0.00001, momentum=0.001, epsilon=1e-7, name=\"RMSprop\",)\n",
        "model.compile(optimizer=optRMSProp, loss=\"categorical_crossentropy\",metrics=['accuracy'])\n",
        "model1.compile(optimizer=optRMSProp, loss=\"categorical_crossentropy\",metrics=['accuracy'])"
      ],
      "execution_count": 7,
      "outputs": []
    },
    {
      "cell_type": "code",
      "metadata": {
        "id": "3OvbNcge2UAV"
      },
      "source": [
        "reduce_learning = callbacks.ReduceLROnPlateau(\n",
        "    monitor='loss',\n",
        "    factor=0.2,\n",
        "    patience=2,\n",
        "    verbose=1,\n",
        "    mode='auto',\n",
        "    min_delta=0.0001,\n",
        "    cooldown=2,\n",
        "    min_lr=0)\n",
        "\n",
        "eary_stopping = callbacks.EarlyStopping(\n",
        "    monitor='loss',\n",
        "    min_delta=0,\n",
        "    patience=10,\n",
        "    verbose=1,\n",
        "    mode='auto')\n",
        "\n",
        "callback = [reduce_learning, eary_stopping]"
      ],
      "execution_count": 8,
      "outputs": []
    },
    {
      "cell_type": "code",
      "metadata": {
        "colab": {
          "base_uri": "https://localhost:8080/"
        },
        "id": "mnYypuN_2Wqu",
        "outputId": "afcc5bf4-91b3-499e-fffe-2ef7fcecf21b"
      },
      "source": [
        "VGG_16 =model.fit(Train_Data,epochs=100,callbacks=callback)"
      ],
      "execution_count": 9,
      "outputs": [
        {
          "output_type": "stream",
          "text": [
            "Epoch 1/100\n",
            "114/114 [==============================] - 118s 648ms/step - loss: 0.6990 - accuracy: 0.6392\n",
            "Epoch 2/100\n",
            "114/114 [==============================] - 78s 683ms/step - loss: 0.5883 - accuracy: 0.6973\n",
            "Epoch 3/100\n",
            "114/114 [==============================] - 80s 702ms/step - loss: 0.5405 - accuracy: 0.7387\n",
            "Epoch 4/100\n",
            "114/114 [==============================] - 82s 716ms/step - loss: 0.5150 - accuracy: 0.7470\n",
            "Epoch 5/100\n",
            "114/114 [==============================] - 83s 725ms/step - loss: 0.4921 - accuracy: 0.7752\n",
            "Epoch 6/100\n",
            "114/114 [==============================] - 84s 733ms/step - loss: 0.4858 - accuracy: 0.7708\n",
            "Epoch 7/100\n",
            "114/114 [==============================] - 84s 733ms/step - loss: 0.4692 - accuracy: 0.7824\n",
            "Epoch 8/100\n",
            "114/114 [==============================] - 84s 734ms/step - loss: 0.4498 - accuracy: 0.7998\n",
            "Epoch 9/100\n",
            "114/114 [==============================] - 84s 735ms/step - loss: 0.4351 - accuracy: 0.8029\n",
            "Epoch 10/100\n",
            "114/114 [==============================] - 84s 732ms/step - loss: 0.4318 - accuracy: 0.7996\n",
            "Epoch 11/100\n",
            "114/114 [==============================] - 84s 733ms/step - loss: 0.4244 - accuracy: 0.8103\n",
            "Epoch 12/100\n",
            "114/114 [==============================] - 84s 730ms/step - loss: 0.4143 - accuracy: 0.8098\n",
            "Epoch 13/100\n",
            "114/114 [==============================] - 84s 733ms/step - loss: 0.4037 - accuracy: 0.8208\n",
            "Epoch 14/100\n",
            "114/114 [==============================] - 84s 735ms/step - loss: 0.3907 - accuracy: 0.8242\n",
            "Epoch 15/100\n",
            "114/114 [==============================] - 84s 735ms/step - loss: 0.3724 - accuracy: 0.8421\n",
            "Epoch 16/100\n",
            "114/114 [==============================] - 84s 735ms/step - loss: 0.3774 - accuracy: 0.8327\n",
            "Epoch 17/100\n",
            "114/114 [==============================] - 84s 733ms/step - loss: 0.3600 - accuracy: 0.8349\n",
            "Epoch 18/100\n",
            "114/114 [==============================] - 84s 734ms/step - loss: 0.3567 - accuracy: 0.8399\n",
            "Epoch 19/100\n",
            "114/114 [==============================] - 84s 733ms/step - loss: 0.3490 - accuracy: 0.8499\n",
            "Epoch 20/100\n",
            "114/114 [==============================] - 84s 734ms/step - loss: 0.3310 - accuracy: 0.8537\n",
            "Epoch 21/100\n",
            "114/114 [==============================] - 84s 735ms/step - loss: 0.3329 - accuracy: 0.8524\n",
            "Epoch 22/100\n",
            "114/114 [==============================] - 84s 733ms/step - loss: 0.3277 - accuracy: 0.8584\n",
            "Epoch 23/100\n",
            "114/114 [==============================] - 84s 734ms/step - loss: 0.3205 - accuracy: 0.8645\n",
            "Epoch 24/100\n",
            "114/114 [==============================] - 84s 734ms/step - loss: 0.3057 - accuracy: 0.8701\n",
            "Epoch 25/100\n",
            "114/114 [==============================] - 84s 733ms/step - loss: 0.3103 - accuracy: 0.8670\n",
            "Epoch 26/100\n",
            "114/114 [==============================] - 84s 733ms/step - loss: 0.2955 - accuracy: 0.8786\n",
            "Epoch 27/100\n",
            "114/114 [==============================] - 84s 733ms/step - loss: 0.2902 - accuracy: 0.8748\n",
            "Epoch 28/100\n",
            "114/114 [==============================] - 84s 735ms/step - loss: 0.2903 - accuracy: 0.8789\n",
            "Epoch 29/100\n",
            "114/114 [==============================] - 84s 734ms/step - loss: 0.2835 - accuracy: 0.8731\n",
            "Epoch 30/100\n",
            "114/114 [==============================] - 84s 734ms/step - loss: 0.2797 - accuracy: 0.8819\n",
            "Epoch 31/100\n",
            "114/114 [==============================] - 84s 733ms/step - loss: 0.2709 - accuracy: 0.8806\n",
            "Epoch 32/100\n",
            "114/114 [==============================] - 84s 733ms/step - loss: 0.2625 - accuracy: 0.8919\n",
            "Epoch 33/100\n",
            "114/114 [==============================] - 84s 734ms/step - loss: 0.2615 - accuracy: 0.8905\n",
            "Epoch 34/100\n",
            "114/114 [==============================] - 84s 734ms/step - loss: 0.2567 - accuracy: 0.8933\n",
            "Epoch 35/100\n",
            "114/114 [==============================] - 84s 732ms/step - loss: 0.2470 - accuracy: 0.9030\n",
            "Epoch 36/100\n",
            "114/114 [==============================] - 84s 735ms/step - loss: 0.2410 - accuracy: 0.9057\n",
            "Epoch 37/100\n",
            "114/114 [==============================] - 84s 734ms/step - loss: 0.2342 - accuracy: 0.9054\n",
            "Epoch 38/100\n",
            "114/114 [==============================] - 84s 734ms/step - loss: 0.2340 - accuracy: 0.9099\n",
            "Epoch 39/100\n",
            "114/114 [==============================] - 84s 734ms/step - loss: 0.2245 - accuracy: 0.9137\n",
            "Epoch 40/100\n",
            "114/114 [==============================] - 84s 735ms/step - loss: 0.2188 - accuracy: 0.9193\n",
            "Epoch 41/100\n",
            "114/114 [==============================] - 84s 734ms/step - loss: 0.2213 - accuracy: 0.9148\n",
            "Epoch 42/100\n",
            "114/114 [==============================] - 84s 736ms/step - loss: 0.2131 - accuracy: 0.9193\n",
            "Epoch 43/100\n",
            "114/114 [==============================] - 84s 735ms/step - loss: 0.2122 - accuracy: 0.9198\n",
            "Epoch 44/100\n",
            "114/114 [==============================] - 84s 736ms/step - loss: 0.2099 - accuracy: 0.9212\n",
            "Epoch 45/100\n",
            "114/114 [==============================] - 84s 735ms/step - loss: 0.1922 - accuracy: 0.9281\n",
            "Epoch 46/100\n",
            "114/114 [==============================] - 84s 734ms/step - loss: 0.1934 - accuracy: 0.9278\n",
            "Epoch 47/100\n",
            "114/114 [==============================] - 84s 736ms/step - loss: 0.1949 - accuracy: 0.9295\n",
            "\n",
            "Epoch 00047: ReduceLROnPlateau reducing learning rate to 1.9999999494757505e-06.\n",
            "Epoch 48/100\n",
            "114/114 [==============================] - 84s 733ms/step - loss: 0.1535 - accuracy: 0.9569\n",
            "Epoch 49/100\n",
            "114/114 [==============================] - 84s 734ms/step - loss: 0.1484 - accuracy: 0.9566\n",
            "Epoch 50/100\n",
            "114/114 [==============================] - 84s 735ms/step - loss: 0.1452 - accuracy: 0.9605\n",
            "Epoch 51/100\n",
            "114/114 [==============================] - 84s 735ms/step - loss: 0.1474 - accuracy: 0.9583\n",
            "Epoch 52/100\n",
            "114/114 [==============================] - 84s 734ms/step - loss: 0.1405 - accuracy: 0.9627\n",
            "Epoch 53/100\n",
            "114/114 [==============================] - 84s 732ms/step - loss: 0.1396 - accuracy: 0.9630\n",
            "Epoch 54/100\n",
            "114/114 [==============================] - 84s 734ms/step - loss: 0.1376 - accuracy: 0.9663\n",
            "Epoch 55/100\n",
            "114/114 [==============================] - 84s 740ms/step - loss: 0.1359 - accuracy: 0.9660\n",
            "Epoch 56/100\n",
            "114/114 [==============================] - 84s 733ms/step - loss: 0.1383 - accuracy: 0.9654\n",
            "Epoch 57/100\n",
            "114/114 [==============================] - 84s 735ms/step - loss: 0.1372 - accuracy: 0.9671\n",
            "\n",
            "Epoch 00057: ReduceLROnPlateau reducing learning rate to 3.999999989900971e-07.\n",
            "Epoch 58/100\n",
            "114/114 [==============================] - 84s 735ms/step - loss: 0.1334 - accuracy: 0.9710\n",
            "Epoch 59/100\n",
            "114/114 [==============================] - 84s 735ms/step - loss: 0.1321 - accuracy: 0.9710\n",
            "Epoch 60/100\n",
            "114/114 [==============================] - 84s 735ms/step - loss: 0.1320 - accuracy: 0.9685\n",
            "Epoch 61/100\n",
            "114/114 [==============================] - 84s 736ms/step - loss: 0.1321 - accuracy: 0.9726\n",
            "Epoch 62/100\n",
            "114/114 [==============================] - 84s 733ms/step - loss: 0.1297 - accuracy: 0.9712\n",
            "Epoch 63/100\n",
            "114/114 [==============================] - 84s 733ms/step - loss: 0.1280 - accuracy: 0.9668\n",
            "Epoch 64/100\n",
            "114/114 [==============================] - 84s 735ms/step - loss: 0.1294 - accuracy: 0.9721\n",
            "Epoch 65/100\n",
            "114/114 [==============================] - 84s 736ms/step - loss: 0.1315 - accuracy: 0.9685\n",
            "\n",
            "Epoch 00065: ReduceLROnPlateau reducing learning rate to 8.00000009348878e-08.\n",
            "Epoch 66/100\n",
            "114/114 [==============================] - 84s 733ms/step - loss: 0.1298 - accuracy: 0.9726\n",
            "Epoch 67/100\n",
            "114/114 [==============================] - 84s 734ms/step - loss: 0.1300 - accuracy: 0.9688\n",
            "Epoch 68/100\n",
            "114/114 [==============================] - 84s 732ms/step - loss: 0.1288 - accuracy: 0.9707\n",
            "\n",
            "Epoch 00068: ReduceLROnPlateau reducing learning rate to 1.5999999902760466e-08.\n",
            "Epoch 69/100\n",
            "114/114 [==============================] - 84s 732ms/step - loss: 0.1259 - accuracy: 0.9748\n",
            "Epoch 70/100\n",
            "114/114 [==============================] - 84s 732ms/step - loss: 0.1264 - accuracy: 0.9729\n",
            "Epoch 71/100\n",
            "114/114 [==============================] - 84s 731ms/step - loss: 0.1258 - accuracy: 0.9754\n",
            "\n",
            "Epoch 00071: ReduceLROnPlateau reducing learning rate to 3.1999999094978194e-09.\n",
            "Epoch 72/100\n",
            "114/114 [==============================] - 84s 735ms/step - loss: 0.1266 - accuracy: 0.9704\n",
            "Epoch 73/100\n",
            "114/114 [==============================] - 84s 733ms/step - loss: 0.1266 - accuracy: 0.9754\n",
            "Epoch 74/100\n",
            "114/114 [==============================] - 84s 733ms/step - loss: 0.1284 - accuracy: 0.9735\n",
            "\n",
            "Epoch 00074: ReduceLROnPlateau reducing learning rate to 6.399999641359955e-10.\n",
            "Epoch 75/100\n",
            "114/114 [==============================] - 84s 733ms/step - loss: 0.1294 - accuracy: 0.9718\n",
            "Epoch 76/100\n",
            "114/114 [==============================] - 84s 731ms/step - loss: 0.1290 - accuracy: 0.9729\n",
            "Epoch 77/100\n",
            "114/114 [==============================] - 84s 732ms/step - loss: 0.1278 - accuracy: 0.9726\n",
            "\n",
            "Epoch 00077: ReduceLROnPlateau reducing learning rate to 1.27999988386307e-10.\n",
            "Epoch 78/100\n",
            "114/114 [==============================] - 84s 734ms/step - loss: 0.1286 - accuracy: 0.9707\n",
            "Epoch 79/100\n",
            "114/114 [==============================] - 84s 734ms/step - loss: 0.1261 - accuracy: 0.9751\n",
            "Epoch 80/100\n",
            "114/114 [==============================] - 84s 730ms/step - loss: 0.1276 - accuracy: 0.9737\n",
            "\n",
            "Epoch 00080: ReduceLROnPlateau reducing learning rate to 2.559999712214989e-11.\n",
            "Epoch 81/100\n",
            "114/114 [==============================] - 84s 734ms/step - loss: 0.1290 - accuracy: 0.9710\n",
            "Epoch 00081: early stopping\n"
          ],
          "name": "stdout"
        }
      ]
    },
    {
      "cell_type": "code",
      "metadata": {
        "id": "cSmGSb-SK3F4",
        "colab": {
          "base_uri": "https://localhost:8080/"
        },
        "outputId": "7a32282a-9d15-47c9-852f-3a4af495d872"
      },
      "source": [
        "reduce_learning = callbacks.ReduceLROnPlateau(\n",
        "    monitor='loss',\n",
        "    factor=0.2,\n",
        "    patience=2,\n",
        "    verbose=1,\n",
        "    mode='auto',\n",
        "    min_delta=0.0001,\n",
        "    cooldown=2,\n",
        "    min_lr=0)\n",
        "\n",
        "eary_stopping = callbacks.EarlyStopping(\n",
        "    monitor='loss',\n",
        "    min_delta=0,\n",
        "    patience=10,\n",
        "    verbose=1,\n",
        "    mode='auto')\n",
        "\n",
        "callback = [reduce_learning, eary_stopping]\n",
        "\n",
        "VGG_161 =model1.fit(Train_Data_OG,epochs=100,callbacks=callback)"
      ],
      "execution_count": 10,
      "outputs": [
        {
          "output_type": "stream",
          "text": [
            "Epoch 1/100\n",
            "114/114 [==============================] - 83s 722ms/step - loss: 0.7429 - accuracy: 0.5195\n",
            "Epoch 2/100\n",
            "114/114 [==============================] - 83s 722ms/step - loss: 0.7449 - accuracy: 0.5145\n",
            "Epoch 3/100\n",
            "114/114 [==============================] - 83s 723ms/step - loss: 0.7452 - accuracy: 0.5071\n",
            "\n",
            "Epoch 00003: ReduceLROnPlateau reducing learning rate to 5.119999563207856e-12.\n",
            "Epoch 4/100\n",
            "114/114 [==============================] - 83s 722ms/step - loss: 0.7525 - accuracy: 0.4952\n",
            "Epoch 5/100\n",
            "114/114 [==============================] - 83s 723ms/step - loss: 0.7366 - accuracy: 0.5054\n",
            "Epoch 6/100\n",
            "114/114 [==============================] - 83s 722ms/step - loss: 0.7476 - accuracy: 0.5037\n",
            "Epoch 7/100\n",
            "114/114 [==============================] - 83s 722ms/step - loss: 0.7467 - accuracy: 0.5068\n",
            "\n",
            "Epoch 00007: ReduceLROnPlateau reducing learning rate to 1.0239998952943363e-12.\n",
            "Epoch 8/100\n",
            "114/114 [==============================] - 83s 722ms/step - loss: 0.7383 - accuracy: 0.5156\n",
            "Epoch 9/100\n",
            "114/114 [==============================] - 83s 722ms/step - loss: 0.7389 - accuracy: 0.5040\n",
            "Epoch 10/100\n",
            "114/114 [==============================] - 82s 720ms/step - loss: 0.7519 - accuracy: 0.5071\n",
            "\n",
            "Epoch 00010: ReduceLROnPlateau reducing learning rate to 2.0479997905886728e-13.\n",
            "Epoch 11/100\n",
            "114/114 [==============================] - 82s 721ms/step - loss: 0.7422 - accuracy: 0.5123\n",
            "Epoch 12/100\n",
            "114/114 [==============================] - 82s 721ms/step - loss: 0.7383 - accuracy: 0.5048\n",
            "Epoch 13/100\n",
            "114/114 [==============================] - 82s 721ms/step - loss: 0.7326 - accuracy: 0.5112\n",
            "Epoch 14/100\n",
            "114/114 [==============================] - 83s 722ms/step - loss: 0.7499 - accuracy: 0.4982\n",
            "Epoch 15/100\n",
            "114/114 [==============================] - 82s 721ms/step - loss: 0.7430 - accuracy: 0.5118\n",
            "\n",
            "Epoch 00015: ReduceLROnPlateau reducing learning rate to 4.095999526967237e-14.\n",
            "Epoch 16/100\n",
            "114/114 [==============================] - 82s 719ms/step - loss: 0.7525 - accuracy: 0.5010\n",
            "Epoch 17/100\n",
            "114/114 [==============================] - 83s 723ms/step - loss: 0.7373 - accuracy: 0.5142\n",
            "Epoch 18/100\n",
            "114/114 [==============================] - 82s 721ms/step - loss: 0.7358 - accuracy: 0.5120\n",
            "\n",
            "Epoch 00018: ReduceLROnPlateau reducing learning rate to 8.191999189459745e-15.\n",
            "Epoch 19/100\n",
            "114/114 [==============================] - 82s 721ms/step - loss: 0.7486 - accuracy: 0.5079\n",
            "Epoch 20/100\n",
            "114/114 [==============================] - 83s 722ms/step - loss: 0.7425 - accuracy: 0.5131\n",
            "Epoch 21/100\n",
            "114/114 [==============================] - 83s 722ms/step - loss: 0.7403 - accuracy: 0.5043\n",
            "\n",
            "Epoch 00021: ReduceLROnPlateau reducing learning rate to 1.638399905654585e-15.\n",
            "Epoch 22/100\n",
            "114/114 [==============================] - 83s 722ms/step - loss: 0.7345 - accuracy: 0.5079\n",
            "Epoch 23/100\n",
            "114/114 [==============================] - 82s 719ms/step - loss: 0.7461 - accuracy: 0.5010\n",
            "Epoch 00023: early stopping\n"
          ],
          "name": "stdout"
        }
      ]
    },
    {
      "cell_type": "code",
      "metadata": {
        "id": "MmTafSdWVfNV"
      },
      "source": [
        "predict1 = model.predict(Test_Data, steps=None)\n",
        "predict2 = model1.predict(Test_Data_OG, steps=None)"
      ],
      "execution_count": 11,
      "outputs": []
    },
    {
      "cell_type": "code",
      "metadata": {
        "id": "yKOPQgDrXw83"
      },
      "source": [
        "in1=[]\n",
        "for i in np.arange(predict1.shape[0]):\n",
        "  A= np.max(predict1[i])\n",
        "  index_1= np.where(predict1[i]==A)\n",
        "  in1.append(index_1[0][0])\n",
        "in1=np.array(in1)\n",
        "\n",
        "in2=[]\n",
        "for i in np.arange(predict2.shape[0]):\n",
        "  A= np.max(predict2[i])\n",
        "  index_1= np.where(predict2[i]==A)\n",
        "  in2.append(index_1[0][0])\n",
        "in2=np.array(in2)"
      ],
      "execution_count": 12,
      "outputs": []
    },
    {
      "cell_type": "code",
      "metadata": {
        "id": "4-tVvXcBVmgP",
        "colab": {
          "base_uri": "https://localhost:8080/",
          "height": 881
        },
        "outputId": "705065ee-2871-4928-b95f-402c687caca8"
      },
      "source": [
        "print(\"VMDed Data\")\n",
        "true_classes = Test_Data.classes\n",
        "class_labels = list(Test_Data.class_indices.keys()) \n",
        "predicted_classes = (in1)\n",
        "report = metrics.classification_report(true_classes, predicted_classes, target_names=class_labels)\n",
        "print(report)\n",
        "cm1 = confusion_matrix(true_classes,predicted_classes)\n",
        "#print(cm2)\n",
        "#Visualizing confusion matrix\n",
        "fig, ax = plot_confusion_matrix(conf_mat=cm1, colorbar=True)\n",
        "plt.show()\n",
        "\n",
        "print(\"Original Data\")\n",
        "true_classes = Test_Data_OG.classes\n",
        "class_labels = list(Test_Data_OG.class_indices.keys()) \n",
        "predicted_classes = (in2)\n",
        "report = metrics.classification_report(true_classes, predicted_classes, target_names=class_labels)\n",
        "print(report)\n",
        "cm1 = confusion_matrix(true_classes,predicted_classes)\n",
        "#print(cm2)\n",
        "#Visualizing confusion matrix\n",
        "fig, ax = plot_confusion_matrix(conf_mat=cm1, colorbar=True)\n",
        "plt.show()\n"
      ],
      "execution_count": 13,
      "outputs": [
        {
          "output_type": "stream",
          "text": [
            "VMDed Data\n",
            "                        precision    recall  f1-score   support\n",
            "\n",
            "Negative for Pneumonia       0.72      0.64      0.68       331\n",
            "    Typical Appearance       0.81      0.85      0.83       572\n",
            "\n",
            "              accuracy                           0.78       903\n",
            "             macro avg       0.76      0.75      0.75       903\n",
            "          weighted avg       0.77      0.78      0.77       903\n",
            "\n"
          ],
          "name": "stdout"
        },
        {
          "output_type": "display_data",
          "data": {
            "image/png": "[encoded data removed]",
            "text/plain": [
              "<Figure size 432x288 with 2 Axes>"
            ]
          },
          "metadata": {
            "tags": [],
            "needs_background": "light"
          }
        },
        {
          "output_type": "stream",
          "text": [
            "Original Data\n",
            "                        precision    recall  f1-score   support\n",
            "\n",
            "Negative for Pneumonia       0.33      0.31      0.32       331\n",
            "    Typical Appearance       0.62      0.64      0.63       572\n",
            "\n",
            "              accuracy                           0.52       903\n",
            "             macro avg       0.47      0.47      0.47       903\n",
            "          weighted avg       0.51      0.52      0.51       903\n",
            "\n"
          ],
          "name": "stdout"
        },
        {
          "output_type": "display_data",
          "data": {
            "image/png": "[encoded data removed]",
            "text/plain": [
              "<Figure size 432x288 with 2 Axes>"
            ]
          },
          "metadata": {
            "tags": [],
            "needs_background": "light"
          }
        }
      ]
    },
    {
      "cell_type": "code",
      "metadata": {
        "id": "NzckzSohjdJF"
      },
      "source": [
        ""
      ],
      "execution_count": null,
      "outputs": []
    }
  ]
}